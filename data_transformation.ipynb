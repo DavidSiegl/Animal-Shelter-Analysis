{
 "cells": [
  {
   "cell_type": "code",
   "execution_count": 1,
   "metadata": {},
   "outputs": [],
   "source": [
    "import datetime as dt\n",
    "import numpy as np\n",
    "import pandas as pd"
   ]
  },
  {
   "cell_type": "code",
   "execution_count": 2,
   "metadata": {},
   "outputs": [],
   "source": [
    "#make pandas display large datasets without '...'s\n",
    "pd.set_option('display.max_rows', None)\n",
    "pd.set_option('display.max_columns', None)\n",
    "pd.set_option('display.width', None)\n"
   ]
  },
  {
   "cell_type": "code",
   "execution_count": 3,
   "metadata": {},
   "outputs": [],
   "source": [
    "data = pd.read_csv('data/raw_data.csv', index_col=0)"
   ]
  },
  {
   "cell_type": "code",
   "execution_count": 4,
   "metadata": {},
   "outputs": [
    {
     "data": {
      "text/plain": "               Name             DateTime      OutcomeType OutcomeSubtype  \\\nAnimalID                                                                   \nA702735   Spartacus  2015-05-18 16:41:00         Transfer        Partner   \nA669381      Nugget  2013-12-21 18:26:00  Return_to_owner            NaN   \nA669159       Ghost  2013-12-22 18:29:00         Adoption            NaN   \nA691866         NaN  2014-11-25 18:34:00         Transfer           SCRP   \nA698544         NaN  2015-03-14 09:00:00         Transfer           SCRP   \nA668218         NaN  2013-12-09 14:34:00         Adoption            NaN   \nA678172       Bella  2014-05-10 18:18:00         Adoption            NaN   \nA670213        Izzy  2014-01-12 15:03:00         Transfer        Partner   \nA720857    Princess  2016-02-18 11:50:00  Return_to_owner            NaN   \nA704607    Midnight  2015-06-07 14:58:00  Return_to_owner            NaN   \n\n         AnimalType SexuponOutcome AgeuponOutcome                     Breed  \\\nAnimalID                                                                      \nA702735         Cat    Intact Male        4 weeks    Domestic Shorthair Mix   \nA669381         Dog  Neutered Male        3 years      Golden Retriever Mix   \nA669159         Cat  Spayed Female       9 months    Domestic Shorthair Mix   \nA691866         Cat  Intact Female         1 year    Domestic Shorthair Mix   \nA698544         Cat  Intact Female         1 year    Domestic Shorthair Mix   \nA668218         Cat  Spayed Female       2 months    Domestic Shorthair Mix   \nA678172         Dog  Spayed Female         1 year   Chihuahua Shorthair Mix   \nA670213         Dog  Intact Female       2 months               Pointer Mix   \nA720857         Cat  Spayed Female        2 years    Domestic Shorthair Mix   \nA704607         Dog  Spayed Female       15 years  Pembroke Welsh Corgi Mix   \n\n                       Color  \nAnimalID                      \nA702735   Orange Tabby/White  \nA669381                 Gold  \nA669159    Brown Tabby/White  \nA691866     White/Blue Tabby  \nA698544          Brown Tabby  \nA668218          Black/White  \nA678172                  Red  \nA670213          Black/Brown  \nA720857    Cream Tabby/White  \nA704607                Black  ",
      "text/html": "<div>\n<style scoped>\n    .dataframe tbody tr th:only-of-type {\n        vertical-align: middle;\n    }\n\n    .dataframe tbody tr th {\n        vertical-align: top;\n    }\n\n    .dataframe thead th {\n        text-align: right;\n    }\n</style>\n<table border=\"1\" class=\"dataframe\">\n  <thead>\n    <tr style=\"text-align: right;\">\n      <th></th>\n      <th>Name</th>\n      <th>DateTime</th>\n      <th>OutcomeType</th>\n      <th>OutcomeSubtype</th>\n      <th>AnimalType</th>\n      <th>SexuponOutcome</th>\n      <th>AgeuponOutcome</th>\n      <th>Breed</th>\n      <th>Color</th>\n    </tr>\n    <tr>\n      <th>AnimalID</th>\n      <th></th>\n      <th></th>\n      <th></th>\n      <th></th>\n      <th></th>\n      <th></th>\n      <th></th>\n      <th></th>\n      <th></th>\n    </tr>\n  </thead>\n  <tbody>\n    <tr>\n      <th>A702735</th>\n      <td>Spartacus</td>\n      <td>2015-05-18 16:41:00</td>\n      <td>Transfer</td>\n      <td>Partner</td>\n      <td>Cat</td>\n      <td>Intact Male</td>\n      <td>4 weeks</td>\n      <td>Domestic Shorthair Mix</td>\n      <td>Orange Tabby/White</td>\n    </tr>\n    <tr>\n      <th>A669381</th>\n      <td>Nugget</td>\n      <td>2013-12-21 18:26:00</td>\n      <td>Return_to_owner</td>\n      <td>NaN</td>\n      <td>Dog</td>\n      <td>Neutered Male</td>\n      <td>3 years</td>\n      <td>Golden Retriever Mix</td>\n      <td>Gold</td>\n    </tr>\n    <tr>\n      <th>A669159</th>\n      <td>Ghost</td>\n      <td>2013-12-22 18:29:00</td>\n      <td>Adoption</td>\n      <td>NaN</td>\n      <td>Cat</td>\n      <td>Spayed Female</td>\n      <td>9 months</td>\n      <td>Domestic Shorthair Mix</td>\n      <td>Brown Tabby/White</td>\n    </tr>\n    <tr>\n      <th>A691866</th>\n      <td>NaN</td>\n      <td>2014-11-25 18:34:00</td>\n      <td>Transfer</td>\n      <td>SCRP</td>\n      <td>Cat</td>\n      <td>Intact Female</td>\n      <td>1 year</td>\n      <td>Domestic Shorthair Mix</td>\n      <td>White/Blue Tabby</td>\n    </tr>\n    <tr>\n      <th>A698544</th>\n      <td>NaN</td>\n      <td>2015-03-14 09:00:00</td>\n      <td>Transfer</td>\n      <td>SCRP</td>\n      <td>Cat</td>\n      <td>Intact Female</td>\n      <td>1 year</td>\n      <td>Domestic Shorthair Mix</td>\n      <td>Brown Tabby</td>\n    </tr>\n    <tr>\n      <th>A668218</th>\n      <td>NaN</td>\n      <td>2013-12-09 14:34:00</td>\n      <td>Adoption</td>\n      <td>NaN</td>\n      <td>Cat</td>\n      <td>Spayed Female</td>\n      <td>2 months</td>\n      <td>Domestic Shorthair Mix</td>\n      <td>Black/White</td>\n    </tr>\n    <tr>\n      <th>A678172</th>\n      <td>Bella</td>\n      <td>2014-05-10 18:18:00</td>\n      <td>Adoption</td>\n      <td>NaN</td>\n      <td>Dog</td>\n      <td>Spayed Female</td>\n      <td>1 year</td>\n      <td>Chihuahua Shorthair Mix</td>\n      <td>Red</td>\n    </tr>\n    <tr>\n      <th>A670213</th>\n      <td>Izzy</td>\n      <td>2014-01-12 15:03:00</td>\n      <td>Transfer</td>\n      <td>Partner</td>\n      <td>Dog</td>\n      <td>Intact Female</td>\n      <td>2 months</td>\n      <td>Pointer Mix</td>\n      <td>Black/Brown</td>\n    </tr>\n    <tr>\n      <th>A720857</th>\n      <td>Princess</td>\n      <td>2016-02-18 11:50:00</td>\n      <td>Return_to_owner</td>\n      <td>NaN</td>\n      <td>Cat</td>\n      <td>Spayed Female</td>\n      <td>2 years</td>\n      <td>Domestic Shorthair Mix</td>\n      <td>Cream Tabby/White</td>\n    </tr>\n    <tr>\n      <th>A704607</th>\n      <td>Midnight</td>\n      <td>2015-06-07 14:58:00</td>\n      <td>Return_to_owner</td>\n      <td>NaN</td>\n      <td>Dog</td>\n      <td>Spayed Female</td>\n      <td>15 years</td>\n      <td>Pembroke Welsh Corgi Mix</td>\n      <td>Black</td>\n    </tr>\n  </tbody>\n</table>\n</div>"
     },
     "execution_count": 4,
     "metadata": {},
     "output_type": "execute_result"
    }
   ],
   "source": [
    "data.sample(10)  #what does the data look like?"
   ]
  },
  {
   "cell_type": "markdown",
   "metadata": {},
   "source": [
    "## standardize AgeuponOutcome to years"
   ]
  },
  {
   "cell_type": "code",
   "execution_count": 5,
   "metadata": {},
   "outputs": [
    {
     "data": {
      "text/plain": "1 year       3969\n2 years      3742\n2 months     3397\n3 years      1823\n1 month      1281\n3 months     1277\n4 years      1071\n5 years       992\n4 months      888\n6 years       670\n3 weeks       659\n5 months      652\n6 months      588\n8 years       536\n7 years       531\n2 weeks       529\n10 months     457\n10 years      446\n8 months      402\n4 weeks       334\n9 years       288\n7 months      288\n12 years      234\n9 months      224\n1 weeks       171\n11 months     166\n1 week        146\n13 years      143\n11 years      126\n3 days        109\n2 days         99\n14 years       97\n15 years       85\n1 day          66\n6 days         50\n4 days         50\n16 years       36\n5 days         24\n0 years        22\nNaN            18\n17 years       17\n5 weeks        11\n18 years       10\n19 years        3\n20 years        2\nName: AgeuponOutcome, dtype: int64"
     },
     "execution_count": 5,
     "metadata": {},
     "output_type": "execute_result"
    }
   ],
   "source": [
    "data.AgeuponOutcome.value_counts(dropna=False)  #what are the old values? for comparison with the result"
   ]
  },
  {
   "cell_type": "code",
   "execution_count": 6,
   "metadata": {},
   "outputs": [],
   "source": [
    "def transform_to_years(age_string):\n",
    "    '''takes as input the AgeuponOutcome feature of the raw data and outputs the corresponding number of years'''\n",
    "\n",
    "    if age_string is np.nan:\n",
    "        return np.nan\n",
    "\n",
    "    split_string = age_string.split()\n",
    "\n",
    "    if split_string[1].strip('s') == 'year':\n",
    "        return float(split_string[0])\n",
    "\n",
    "    elif split_string[1].strip('s') == 'month':\n",
    "        return float(split_string[0]) / 12\n",
    "\n",
    "    elif split_string[1].strip('s') == 'week':\n",
    "        return float(split_string[0]) / 52\n",
    "\n",
    "    elif split_string[1].strip('s') == 'day':\n",
    "        return float(split_string[0]) / 365"
   ]
  },
  {
   "cell_type": "code",
   "execution_count": 7,
   "metadata": {},
   "outputs": [],
   "source": [
    "data['AgeuponOutcome'] = data.AgeuponOutcome.apply(transform_to_years)  #apply the function"
   ]
  },
  {
   "cell_type": "code",
   "execution_count": 8,
   "metadata": {},
   "outputs": [
    {
     "data": {
      "text/plain": "1.000000     3969\n2.000000     3742\n0.166667     3397\n3.000000     1823\n0.083333     1281\n0.250000     1277\n4.000000     1071\n5.000000      992\n0.333333      888\n6.000000      670\n0.057692      659\n0.416667      652\n0.500000      588\n8.000000      536\n7.000000      531\n0.038462      529\n0.833333      457\n10.000000     446\n0.666667      402\n0.076923      334\n0.019231      317\n9.000000      288\n0.583333      288\n12.000000     234\n0.750000      224\n0.916667      166\n13.000000     143\n11.000000     126\n0.008219      109\n0.005479       99\n14.000000      97\n15.000000      85\n0.002740       66\n0.010959       50\n0.016438       50\n16.000000      36\n0.013699       24\n0.000000       22\nNaN            18\n17.000000      17\n0.096154       11\n18.000000      10\n19.000000       3\n20.000000       2\nName: AgeuponOutcome, dtype: int64"
     },
     "execution_count": 8,
     "metadata": {},
     "output_type": "execute_result"
    }
   ],
   "source": [
    "data.AgeuponOutcome.value_counts(dropna=False)  #looks good"
   ]
  },
  {
   "cell_type": "markdown",
   "metadata": {},
   "source": [
    "## transform date column"
   ]
  },
  {
   "cell_type": "code",
   "execution_count": 9,
   "metadata": {},
   "outputs": [],
   "source": [
    "#for now i just extract the year and month since these are the features we need for data understanding\n",
    "\n",
    "data['year'] = data.DateTime.apply(lambda x: dt.datetime.strptime(x, '%Y-%m-%d %H:%M:%S').year)\n",
    "data['month'] = data.DateTime.apply(lambda x: dt.datetime.strptime(x, '%Y-%m-%d %H:%M:%S').month)\n",
    "data['weekday'] = data.DateTime.apply(lambda x: dt.datetime.strptime(x, '%Y-%m-%d %H:%M:%S').weekday())\n"
   ]
  },
  {
   "cell_type": "markdown",
   "metadata": {},
   "source": [
    "## transform SexuponOutcome"
   ]
  },
  {
   "cell_type": "code",
   "execution_count": 10,
   "metadata": {},
   "outputs": [
    {
     "data": {
      "text/plain": "Neutered Male    9779\nSpayed Female    8820\nIntact Male      3525\nIntact Female    3511\nUnknown          1093\nNaN                 1\nName: SexuponOutcome, dtype: int64"
     },
     "execution_count": 10,
     "metadata": {},
     "output_type": "execute_result"
    }
   ],
   "source": [
    "data.SexuponOutcome.value_counts(dropna=False)  #what are the old values?"
   ]
  },
  {
   "cell_type": "code",
   "execution_count": 11,
   "metadata": {},
   "outputs": [],
   "source": [
    "def transform_sex(sex_string, neutralized=False):\n",
    "    '''takes as input the SexuponOutcome feature and returns just the sex or if the animal was neutralized'''\n",
    "\n",
    "    if (sex_string is np.nan) or (sex_string == 'Unknown'):\n",
    "        return np.nan\n",
    "\n",
    "    split_string = sex_string.split()\n",
    "\n",
    "    if neutralized:\n",
    "        if split_string[0] == 'Intact':\n",
    "            return False\n",
    "        else:\n",
    "            return True\n",
    "    else:\n",
    "        return split_string[1]"
   ]
  },
  {
   "cell_type": "code",
   "execution_count": 12,
   "metadata": {},
   "outputs": [],
   "source": [
    "#apply the function\n",
    "data['neutralized'] = data.SexuponOutcome.apply(lambda x: transform_sex(x, True))\n",
    "data['SexuponOutcome'] = data.SexuponOutcome.apply(transform_sex)"
   ]
  },
  {
   "cell_type": "code",
   "execution_count": 13,
   "metadata": {},
   "outputs": [
    {
     "data": {
      "text/plain": "Male      13304\nFemale    12331\nNaN        1094\nName: SexuponOutcome, dtype: int64"
     },
     "execution_count": 13,
     "metadata": {},
     "output_type": "execute_result"
    }
   ],
   "source": [
    "data.SexuponOutcome.value_counts(dropna=False)  #looks good"
   ]
  },
  {
   "cell_type": "code",
   "execution_count": 14,
   "metadata": {},
   "outputs": [
    {
     "data": {
      "text/plain": "True     18599\nFalse     7036\nNaN       1094\nName: neutralized, dtype: int64"
     },
     "execution_count": 14,
     "metadata": {},
     "output_type": "execute_result"
    }
   ],
   "source": [
    "data.neutralized.value_counts(dropna=False)  #looks good"
   ]
  },
  {
   "cell_type": "markdown",
   "metadata": {},
   "source": [
    "## Colors\n",
    "Let's look at the colors next:"
   ]
  },
  {
   "cell_type": "code",
   "execution_count": 15,
   "outputs": [
    {
     "name": "stdout",
     "output_type": "stream",
     "text": [
      "Current number of unique colors: 366\n"
     ]
    }
   ],
   "source": [
    "print(f\"Current number of unique colors: {data.Color.nunique()}\")"
   ],
   "metadata": {
    "collapsed": false,
    "pycharm": {
     "name": "#%%\n"
    }
   }
  },
  {
   "cell_type": "markdown",
   "source": [
    "Since these are a bit too many to handle we will try and reduce the number of colors.\n",
    "Let's look at what values we are dealing with and how often they occur."
   ],
   "metadata": {
    "collapsed": false,
    "pycharm": {
     "name": "#%% md\n"
    }
   }
  },
  {
   "cell_type": "code",
   "execution_count": 16,
   "metadata": {
    "collapsed": false,
    "jupyter": {
     "outputs_hidden": false
    },
    "pycharm": {
     "name": "#%%\n"
    }
   },
   "outputs": [
    {
     "data": {
      "text/plain": "Black/White                    2824\nBlack                          2292\nBrown Tabby                    1635\nBrown Tabby/White               940\nWhite                           931\nBrown/White                     884\nOrange Tabby                    841\nTan/White                       773\nTricolor                        752\nBlue/White                      702\nBlack/Tan                       672\nWhite/Black                     643\nBrown                           639\nTan                             628\nWhite/Brown                     569\nTortie                          530\nCalico                          517\nOrange Tabby/White              455\nBlue                            450\nBrown Brindle/White             450\nBlack/Brown                     436\nBlue Tabby                      433\nWhite/Tan                       389\nRed                             337\nTorbie                          335\nBrown/Black                     333\nRed/White                       331\nBlue Tabby/White                241\nBrown Brindle                   232\nChocolate/White                 224\nBuff                            199\nCream Tabby                     198\nSable                           198\nYellow                          185\nTan/Black                       183\nLynx Point                      168\nCream                           151\nChocolate                       137\nSeal Point                      136\nWhite/Blue                      131\nWhite/Brown Brindle             115\nFawn/White                      109\nWhite/Brown Tabby                98\nGray/White                       96\nGray                             94\nSable/White                      86\nFlame Point                      85\nCream Tabby/White                79\nBlue Merle                       77\nBlack Brindle/White              74\nFawn                             73\nChocolate/Tan                    66\nRed/Black                        62\nTorbie/White                     60\nWhite/Gray                       55\nWhite/Red                        55\nGold                             52\nWhite/Orange Tabby               52\nWhite/Tricolor                   51\nBrown/Tan                        51\nBlack Smoke                      46\nBlack/Brown Brindle              45\nBlue Merle/White                 44\nYellow/White                     43\nBuff/White                       43\nBlack Tabby                      42\nBlack/Tricolor                   39\nWhite/Chocolate                  39\nWhite/Buff                       39\nLilac Point                      39\nCream/White                      38\nBlack/Gray                       38\nWhite/Cream                      36\nGray Tabby                       35\nBrown Merle                      35\nBrown Merle/White                33\nBlue/Tan                         33\nTortie/White                     33\nTortie Point                     32\nWhite/Orange                     30\nBlue Point                       29\nSilver Tabby                     28\nRed Merle                        26\nOrange/White                     26\nRed/Tan                          26\nBlue Merle/Tan                   26\nCalico Point                     25\nTan/Brown                        24\nCalico/White                     24\nRed Merle/White                  23\nApricot                          21\nBlack Brindle                    20\nSilver/Tan                       20\nSeal Point/White                 19\nFawn/Black                       19\nGold/White                       19\nBlue Tick                        18\nTricolor/White                   18\nBlack Tabby/White                18\nRed Tick                         17\nSilver                           17\nBlack/Red                        17\nYellow Brindle/White             17\nTan/Gray                         16\nGray/Black                       16\nChocolate Point                  16\nCream/Black                      16\nWhite/Blue Tabby                 16\nSable/Tan                        16\nBlack Smoke/White                15\nGray Tabby/White                 15\nOrange                           15\nRed Tick/White                   15\nLynx Point/White                 13\nSilver Tabby/White               12\nSable/Black                      12\nYellow Brindle                   12\nWhite/White                      12\nBrown/Tricolor                   12\nWhite/Liver                      12\nBlue Tick/Black                  11\nGray/Tan                         11\nTricolor/Black                   11\nBlue Cream                       11\nTan/Silver                       11\nBuff/Tan                         11\nLiver/White                      11\nBlack/Cream                      10\nWhite/Black Brindle               9\nTortie/Blue Cream                 9\nBrown Tabby/Black                 9\nTan/Cream                         9\nTan/Buff                          9\nBrown/Gray                        8\nRed/Brown                         8\nBlack/Blue Merle                  8\nBuff/Black                        8\nCream/Tan                         8\nBlue Tiger/White                  7\nTricolor/Brown                    7\nSable/Brown                       7\nBrown Brindle/Black               7\nBlue Merle/Brown                  7\nWhite/Red Tick                    7\nChocolate/Brown                   6\nWhite/Blue Merle                  6\nBrown/Red                         6\nBlack/Blue Tick                   6\nTan/Tan                           6\nWhite/Cream Tabby                 5\nChocolate Point/White             5\nSilver/Black                      5\nBlack/Black Brindle               5\nBlack/Buff                        5\nRed/Cream                         4\nBlue Merle/Black                  4\nWhite/Red Merle                   4\nBlue/Black                        4\nBlack/Black                       4\nWhite/Brown Merle                 4\nSilver/White                      4\nBlue Tick/Tan                     4\nGray/Silver                       4\nWhite/Yellow Brindle              4\nTan/Red                           4\nTan/Blue                          4\nBlue Cream/White                  4\nWhite/Black Tabby                 4\nSilver/Brown                      4\nBlue Smoke                        4\nBrown/Cream                       4\nBlue Tick/White                   3\nGray/Brown                        3\nBlack/Silver                      3\nCalico/Brown Tabby                3\nLiver Tick                        3\nBlue Tick/Brown                   3\nSable/Cream                       3\nBlack/Black Smoke                 3\nSeal Point/Brown                  3\nTortie/Orange                     3\nWhite/Pink                        3\nFawn/Blue                         3\nChocolate/Red                     3\nWhite/Chocolate Point             3\nWhite/Silver                      3\nTricolor/Tan                      3\nBlack/Orange                      3\nBrown Brindle/Red Tick            3\nBlack Brindle/Brown               3\nBlack/Blue                        3\nWhite/Gold                        3\nBrown Tiger                       3\nBlue/Brown Brindle                3\nBlue/Cream                        3\nApricot/White                     3\nLiver/Tan                         3\nBlue Tick/Red Tick                3\nTortie/Black                      2\nBrown Brindle/Tan                 2\nBrown Merle/Black                 2\nWhite/Gray Tabby                  2\nRed/Tricolor                      2\nCream/Brown                       2\nBrown Tabby/Tortie                2\nTricolor/Chocolate                2\nBuff/Yellow                       2\nRed/Red Merle                     2\nWhite/Blue Tick                   2\nGold/Gold                         2\nBrown Tabby/Gray                  2\nRed/Buff                          2\nSilver Lynx Point                 2\nBlack/Chocolate                   2\nBlack/Yellow Brindle              2\nChocolate/Black Smoke             2\nBrown/Buff                        2\nTricolor/Silver                   2\nRed Tick/Red                      2\nSilver/Chocolate                  2\nWhite/Yellow                      2\nBlack Tiger/White                 2\nChocolate/Black                   2\nFawn/Tan                          2\nBlack/Brown Merle                 2\nWhite/Apricot                     2\nChocolate/Tricolor                2\nTricolor/Blue                     2\nRed Tick/Tan                      2\nRed/Red Tick                      2\nBlue Point/White                  2\nApricot/Brown                     2\nWhite/Blue Cream                  2\nCalico/Tricolor                   2\nBrown/Red Tick                    2\nCalico/Black                      2\nBrown Tabby/Orange                2\nBrown/Brown                       2\nBrown/Chocolate                   2\nCalico Point/White                2\nBuff/Gray                         2\nWhite/Lynx Point                  2\nGray/Cream                        2\nBlue Merle/Tricolor               2\nTan/Gold                          2\nRed Merle/Black                   2\nCream/Gray                        2\nChocolate/Red Tick                1\nYellow/Yellow                     1\nBlack/Yellow                      1\nBlue Merle/Red                    1\nChocolate/Brown Merle             1\nAgouti/Brown Tabby                1\nBrown Tabby/Gray Tabby            1\nGray/Red                          1\nGold/Black                        1\nFawn/Brown                        1\nChocolate/Gray                    1\nWhite/Calico                      1\nBrown/Black Brindle               1\nBlue Merle/Blue Merle             1\nTricolor/Calico                   1\nBrown Brindle/Brown Brindle       1\nWhite/Flame Point                 1\nCalico/Orange Tabby               1\nGold/Buff                         1\nBlue/Brown                        1\nSable/Red                         1\nLiver Tick/White                  1\nBrown Brindle/Blue Tick           1\nCalico/Blue Cream                 1\nBlue Cream/Tortie                 1\nOrange Tabby/Orange               1\nBlue Tick/Red                     1\nSilver/Red                        1\nOrange/Orange Tabby               1\nTortie/Black Smoke                1\nSilver Tabby/Black                1\nYellow Brindle/Blue               1\nBuff/Brown                        1\nBrown Brindle/Blue Cream          1\nBlue Merle/Red Merle              1\nYellow/Black                      1\nRed/Silver                        1\nTan/Yellow Brindle                1\nTan/Apricot                       1\nBlack Brindle/Brown Brindle       1\nBlue Tabby/Cream                  1\nTan/Tricolor                      1\nChocolate/Cream                   1\nBlue Cream/Blue Tabby             1\nCalico/Blue Tabby                 1\nGray Tabby/Black                  1\nOrange Tiger                      1\nLynx Point/Gray Tabby             1\nCream/Seal Point                  1\nTricolor/Blue Merle               1\nCream/Orange                      1\nBlue Tick/Brown Brindle           1\nBrown Brindle/Brown Merle         1\nWhite/Brown Tiger                 1\nBrown/Blue                        1\nBlue Merle/Cream                  1\nBlue/Tortie                       1\nTricolor/Brown Merle              1\nRed/Blue                          1\nBlack Smoke/Brown Tabby           1\nCream/Red                         1\nOrange/Tan                        1\nFawn/Brown Brindle                1\nTan/Brown Brindle                 1\nBuff/Red                          1\nBlack Tabby/Orange                1\nBlack Brindle/Black               1\nChocolate/Brown Brindle           1\nFawn/Tricolor                     1\nRed Tick/Brown                    1\nOrange Tabby/Apricot              1\nAgouti                            1\nBlue Tabby/Blue Cream             1\nRed/Gold                          1\nBlack/Silver Tabby                1\nChocolate/Gold                    1\nCream/Red Tick                    1\nTortie Point/Lynx Point           1\nBrown/Silver                      1\nBlue Merle/Gray                   1\nBlue Cream/Blue Tiger             1\nBlue Tabby/Orange                 1\nBrown Tiger/White                 1\nRed Tick/Black                    1\nTortie/Calico                     1\nBlue Smoke/Brown                  1\nBlue Tabby/Tan                    1\nBrown Brindle/Blue                1\nTortie/Brown                      1\nTorbie/Calico                     1\nCalico/Brown                      1\nBrown Merle/Blue Merle            1\nBlue/Orange                       1\nBlue Cream/Buff                   1\nRed Merle/Tan                     1\nBrown/Blue Smoke                  1\nRed Tick/Blue Tick                1\nBrown Merle/Tan                   1\nTortie Point/White                1\nGold/Tan                          1\nTan/Brown Merle                   1\nBlue Tiger                        1\nGold/Yellow                       1\nRuddy/Cream                       1\nWhite/Black Smoke                 1\nBlue/Yellow Brindle               1\nTorbie/Blue Cream                 1\nBrown Tabby/Brown                 1\nOrange Tabby/Black                1\nBrown/Brown Merle                 1\nPink                              1\nLiver/Buff                        1\nTorbie/Brown                      1\nLynx Point/Brown Tabby            1\nRed Tick/Brown Merle              1\nYellow Brindle/Tan                1\nBrown/Black Tabby                 1\nBlack/Black Tabby                 1\nSable/Buff                        1\nName: Color, dtype: int64"
     },
     "execution_count": 16,
     "metadata": {},
     "output_type": "execute_result"
    }
   ],
   "source": [
    "data.Color.value_counts()"
   ]
  },
  {
   "cell_type": "code",
   "execution_count": 17,
   "metadata": {
    "collapsed": false,
    "jupyter": {
     "outputs_hidden": false
    },
    "pycharm": {
     "name": "#%%\n"
    }
   },
   "outputs": [
    {
     "data": {
      "text/plain": "Black                6422\nWhite                3344\nBrown Tabby          2592\nBrown                1951\nTan                  1674\nOrange Tabby         1299\nBlue                 1199\nTricolor              800\nRed                   779\nBrown Brindle         699\nBlue Tabby            678\nTortie                580\nCalico                552\nChocolate             448\nTorbie                398\nSable                 324\nCream Tabby           277\nBuff                  267\nYellow                230\nGray                  227\nCream                 221\nFawn                  209\nLynx Point            183\nBlue Merle            165\nSeal Point            158\nBlack Brindle          99\nFlame Point            85\nGold                   77\nBrown Merle            72\nBlack Smoke            62\nBlack Tabby            61\nSilver                 53\nRed Merle              52\nGray Tabby             51\nBlue Tick              44\nOrange                 43\nSilver Tabby           41\nRed Tick               40\nLilac Point            39\nTortie Point           34\nBlue Point             31\nYellow Brindle         31\nCalico Point           27\nApricot                26\nChocolate Point        21\nBlue Cream             19\nLiver                  15\nBlue Tiger              8\nBlue Smoke              5\nBrown Tiger             4\nLiver Tick              4\nAgouti                  2\nSilver Lynx Point       2\nBlack Tiger             2\nPink                    1\nRuddy                   1\nOrange Tiger            1\nName: Color, dtype: int64"
     },
     "execution_count": 17,
     "metadata": {},
     "output_type": "execute_result"
    }
   ],
   "source": [
    "data[\"ColorMix\"] = data.Color.str.contains('/')\n",
    "data.Color=data.Color.str.split('/', expand=True)[0]\n",
    "data.Color.value_counts()"
   ]
  },
  {
   "cell_type": "code",
   "execution_count": 18,
   "metadata": {
    "collapsed": false,
    "jupyter": {
     "outputs_hidden": false
    },
    "pycharm": {
     "name": "#%%\n"
    }
   },
   "outputs": [
    {
     "data": {
      "text/plain": "True     13924\nFalse    12805\nName: ColorMix, dtype: int64"
     },
     "execution_count": 18,
     "metadata": {},
     "output_type": "execute_result"
    }
   ],
   "source": [
    "data.ColorMix.value_counts()"
   ]
  },
  {
   "cell_type": "code",
   "execution_count": 19,
   "metadata": {
    "collapsed": false,
    "jupyter": {
     "outputs_hidden": false
    },
    "pycharm": {
     "name": "#%%\n"
    }
   },
   "outputs": [
    {
     "name": "stdout",
     "output_type": "stream",
     "text": [
      "We were able to reduce the number of unique colors to: 57\n"
     ]
    }
   ],
   "source": [
    "print(f\"We were able to reduce the number of unique colors to: {data.Color.nunique()}\")"
   ]
  },
  {
   "cell_type": "markdown",
   "metadata": {
    "pycharm": {
     "name": "#%% md\n"
    }
   },
   "source": [
    "We were able to reduce the number of colors quite a bit while still retaining the information that an animal has a pure \n",
    "or mixed color (which is actually almost half of the animals). This will probably suffice for this use case."
   ]
  },
  {
   "cell_type": "markdown",
   "source": [
    "## save data with these features"
   ],
   "metadata": {
    "collapsed": false
   }
  },
  {
   "cell_type": "code",
   "execution_count": 20,
   "outputs": [
    {
     "data": {
      "text/plain": "                Name             DateTime      OutcomeType OutcomeSubtype  \\\nAnimalID                                                                    \nA658690    Priscilla  2013-10-19 12:58:00         Adoption            NaN   \nA705938   Baby Bella  2015-12-26 16:54:00  Return_to_owner            NaN   \nA668253     Scarlett  2013-12-13 18:31:00         Adoption            NaN   \nA715557        Dynah  2015-11-18 13:18:00         Adoption            NaN   \nA706697         Toby  2015-09-19 19:02:00         Adoption            NaN   \nA687188   Miss Sally  2014-09-06 18:10:00         Adoption            NaN   \nA685155       Scooby  2014-08-11 15:17:00         Transfer        Partner   \nA717152          NaN  2015-12-03 14:04:00         Transfer        Partner   \nA679335        Rosie  2014-05-25 15:30:00  Return_to_owner            NaN   \nA692676          NaN  2014-11-28 15:58:00         Transfer        Partner   \n\n         AnimalType SexuponOutcome  AgeuponOutcome  \\\nAnimalID                                             \nA658690         Dog         Female        1.000000   \nA705938         Dog         Female        0.583333   \nA668253         Dog         Female       12.000000   \nA715557         Cat         Female        0.333333   \nA706697         Cat           Male        0.416667   \nA687188         Dog         Female        0.166667   \nA685155         Dog           Male        1.000000   \nA717152         Dog           Male        0.083333   \nA679335         Dog         Female       12.000000   \nA692676         Dog           Male        0.333333   \n\n                                            Breed         Color  year  month  \\\nAnimalID                                                                       \nA658690                              Pit Bull Mix         Black  2013     10   \nA705938                   Chihuahua Shorthair Mix         Black  2015     12   \nA668253                   Australian Shepherd Mix         Brown  2013     12   \nA715557                    Domestic Shorthair Mix   Brown Tabby  2015     11   \nA706697                    Domestic Shorthair Mix  Orange Tabby  2015      9   \nA687188                              Pit Bull Mix         White  2014      9   \nA685155                             Dachshund Mix         Sable  2014      8   \nA717152                       German Shepherd Mix      Tricolor  2015     12   \nA679335   Chihuahua Shorthair/Miniature Schnauzer         Black  2014      5   \nA692676                    Manchester Terrier Mix         Black  2014     11   \n\n          weekday neutralized  ColorMix  \nAnimalID                                 \nA658690         5        True      True  \nA705938         5        True      True  \nA668253         4        True      True  \nA715557         2        True     False  \nA706697         5        True     False  \nA687188         5        True     False  \nA685155         0        True      True  \nA717152         3       False     False  \nA679335         6        True      True  \nA692676         4       False      True  ",
      "text/html": "<div>\n<style scoped>\n    .dataframe tbody tr th:only-of-type {\n        vertical-align: middle;\n    }\n\n    .dataframe tbody tr th {\n        vertical-align: top;\n    }\n\n    .dataframe thead th {\n        text-align: right;\n    }\n</style>\n<table border=\"1\" class=\"dataframe\">\n  <thead>\n    <tr style=\"text-align: right;\">\n      <th></th>\n      <th>Name</th>\n      <th>DateTime</th>\n      <th>OutcomeType</th>\n      <th>OutcomeSubtype</th>\n      <th>AnimalType</th>\n      <th>SexuponOutcome</th>\n      <th>AgeuponOutcome</th>\n      <th>Breed</th>\n      <th>Color</th>\n      <th>year</th>\n      <th>month</th>\n      <th>weekday</th>\n      <th>neutralized</th>\n      <th>ColorMix</th>\n    </tr>\n    <tr>\n      <th>AnimalID</th>\n      <th></th>\n      <th></th>\n      <th></th>\n      <th></th>\n      <th></th>\n      <th></th>\n      <th></th>\n      <th></th>\n      <th></th>\n      <th></th>\n      <th></th>\n      <th></th>\n      <th></th>\n      <th></th>\n    </tr>\n  </thead>\n  <tbody>\n    <tr>\n      <th>A658690</th>\n      <td>Priscilla</td>\n      <td>2013-10-19 12:58:00</td>\n      <td>Adoption</td>\n      <td>NaN</td>\n      <td>Dog</td>\n      <td>Female</td>\n      <td>1.000000</td>\n      <td>Pit Bull Mix</td>\n      <td>Black</td>\n      <td>2013</td>\n      <td>10</td>\n      <td>5</td>\n      <td>True</td>\n      <td>True</td>\n    </tr>\n    <tr>\n      <th>A705938</th>\n      <td>Baby Bella</td>\n      <td>2015-12-26 16:54:00</td>\n      <td>Return_to_owner</td>\n      <td>NaN</td>\n      <td>Dog</td>\n      <td>Female</td>\n      <td>0.583333</td>\n      <td>Chihuahua Shorthair Mix</td>\n      <td>Black</td>\n      <td>2015</td>\n      <td>12</td>\n      <td>5</td>\n      <td>True</td>\n      <td>True</td>\n    </tr>\n    <tr>\n      <th>A668253</th>\n      <td>Scarlett</td>\n      <td>2013-12-13 18:31:00</td>\n      <td>Adoption</td>\n      <td>NaN</td>\n      <td>Dog</td>\n      <td>Female</td>\n      <td>12.000000</td>\n      <td>Australian Shepherd Mix</td>\n      <td>Brown</td>\n      <td>2013</td>\n      <td>12</td>\n      <td>4</td>\n      <td>True</td>\n      <td>True</td>\n    </tr>\n    <tr>\n      <th>A715557</th>\n      <td>Dynah</td>\n      <td>2015-11-18 13:18:00</td>\n      <td>Adoption</td>\n      <td>NaN</td>\n      <td>Cat</td>\n      <td>Female</td>\n      <td>0.333333</td>\n      <td>Domestic Shorthair Mix</td>\n      <td>Brown Tabby</td>\n      <td>2015</td>\n      <td>11</td>\n      <td>2</td>\n      <td>True</td>\n      <td>False</td>\n    </tr>\n    <tr>\n      <th>A706697</th>\n      <td>Toby</td>\n      <td>2015-09-19 19:02:00</td>\n      <td>Adoption</td>\n      <td>NaN</td>\n      <td>Cat</td>\n      <td>Male</td>\n      <td>0.416667</td>\n      <td>Domestic Shorthair Mix</td>\n      <td>Orange Tabby</td>\n      <td>2015</td>\n      <td>9</td>\n      <td>5</td>\n      <td>True</td>\n      <td>False</td>\n    </tr>\n    <tr>\n      <th>A687188</th>\n      <td>Miss Sally</td>\n      <td>2014-09-06 18:10:00</td>\n      <td>Adoption</td>\n      <td>NaN</td>\n      <td>Dog</td>\n      <td>Female</td>\n      <td>0.166667</td>\n      <td>Pit Bull Mix</td>\n      <td>White</td>\n      <td>2014</td>\n      <td>9</td>\n      <td>5</td>\n      <td>True</td>\n      <td>False</td>\n    </tr>\n    <tr>\n      <th>A685155</th>\n      <td>Scooby</td>\n      <td>2014-08-11 15:17:00</td>\n      <td>Transfer</td>\n      <td>Partner</td>\n      <td>Dog</td>\n      <td>Male</td>\n      <td>1.000000</td>\n      <td>Dachshund Mix</td>\n      <td>Sable</td>\n      <td>2014</td>\n      <td>8</td>\n      <td>0</td>\n      <td>True</td>\n      <td>True</td>\n    </tr>\n    <tr>\n      <th>A717152</th>\n      <td>NaN</td>\n      <td>2015-12-03 14:04:00</td>\n      <td>Transfer</td>\n      <td>Partner</td>\n      <td>Dog</td>\n      <td>Male</td>\n      <td>0.083333</td>\n      <td>German Shepherd Mix</td>\n      <td>Tricolor</td>\n      <td>2015</td>\n      <td>12</td>\n      <td>3</td>\n      <td>False</td>\n      <td>False</td>\n    </tr>\n    <tr>\n      <th>A679335</th>\n      <td>Rosie</td>\n      <td>2014-05-25 15:30:00</td>\n      <td>Return_to_owner</td>\n      <td>NaN</td>\n      <td>Dog</td>\n      <td>Female</td>\n      <td>12.000000</td>\n      <td>Chihuahua Shorthair/Miniature Schnauzer</td>\n      <td>Black</td>\n      <td>2014</td>\n      <td>5</td>\n      <td>6</td>\n      <td>True</td>\n      <td>True</td>\n    </tr>\n    <tr>\n      <th>A692676</th>\n      <td>NaN</td>\n      <td>2014-11-28 15:58:00</td>\n      <td>Transfer</td>\n      <td>Partner</td>\n      <td>Dog</td>\n      <td>Male</td>\n      <td>0.333333</td>\n      <td>Manchester Terrier Mix</td>\n      <td>Black</td>\n      <td>2014</td>\n      <td>11</td>\n      <td>4</td>\n      <td>False</td>\n      <td>True</td>\n    </tr>\n  </tbody>\n</table>\n</div>"
     },
     "execution_count": 20,
     "metadata": {},
     "output_type": "execute_result"
    }
   ],
   "source": [
    "data.sample(10)  #check another time"
   ],
   "metadata": {
    "collapsed": false,
    "pycharm": {
     "name": "#%%\n"
    }
   }
  },
  {
   "cell_type": "code",
   "execution_count": 21,
   "outputs": [],
   "source": [
    "#save data\n",
    "#data.to_csv('data/transformed_data.csv',index_label='AnimalID')"
   ],
   "metadata": {
    "collapsed": false,
    "pycharm": {
     "name": "#%%\n"
    }
   }
  },
  {
   "cell_type": "markdown",
   "metadata": {},
   "source": [
    "## Drop OutcomeSubtype & Transform Breed"
   ]
  },
  {
   "cell_type": "code",
   "execution_count": 22,
   "metadata": {},
   "outputs": [
    {
     "data": {
      "text/plain": "NaN                    13612\nPartner                 7816\nFoster                  1800\nSCRP                    1599\nSuffering               1002\nAggressive               320\nOffsite                  165\nIn Kennel                114\nBehavior                  86\nRabies Risk               74\nMedical                   66\nIn Foster                 52\nEnroute                    8\nCourt/Investigation        6\nAt Vet                     4\nIn Surgery                 3\nBarn                       2\nName: OutcomeSubtype, dtype: int64"
     },
     "execution_count": 22,
     "metadata": {},
     "output_type": "execute_result"
    }
   ],
   "source": [
    "data.OutcomeSubtype.value_counts(dropna=False) #a lot of NA values"
   ]
  },
  {
   "cell_type": "code",
   "execution_count": 23,
   "metadata": {},
   "outputs": [],
   "source": [
    "data = data.drop([\"OutcomeSubtype\"], axis = 1)"
   ]
  },
  {
   "cell_type": "code",
   "execution_count": 24,
   "metadata": {},
   "outputs": [],
   "source": [
    "data[\"BreedMix\"] = data.Breed.str.contains(\"BreedMix\") #creating new boolean column for Mix"
   ]
  },
  {
   "cell_type": "code",
   "execution_count": 25,
   "metadata": {},
   "outputs": [],
   "source": [
    "data[\"Breed\"] = data['Breed'].str.replace(\" Mix\", \"\")"
   ]
  },
  {
   "cell_type": "code",
   "execution_count": 26,
   "metadata": {},
   "outputs": [
    {
     "name": "stderr",
     "output_type": "stream",
     "text": [
      "c:\\users\\alexa\\pycharmprojects\\animal-shelter-analysis\\venv\\lib\\site-packages\\ipykernel_launcher.py:1: FutureWarning: The default value of regex will change from True to False in a future version.\n",
      "  \"\"\"Entry point for launching an IPython kernel.\n"
     ]
    }
   ],
   "source": [
    "data[\"Breed\"] = data['Breed'].str.replace(\"/.*\", \"\")"
   ]
  },
  {
   "cell_type": "code",
   "execution_count": 27,
   "metadata": {},
   "outputs": [
    {
     "data": {
      "text/plain": "187"
     },
     "execution_count": 27,
     "metadata": {},
     "output_type": "execute_result"
    }
   ],
   "source": [
    "data[data.AnimalType == 'Dog'].Breed.nunique() #reduced unqiue breeds by over 1000"
   ]
  },
  {
   "cell_type": "code",
   "execution_count": 28,
   "metadata": {},
   "outputs": [
    {
     "data": {
      "text/plain": "Chihuahua Shorthair                   2145\nPit Bull                              2113\nLabrador Retriever                    1915\nGerman Shepherd                        826\nAustralian Cattle Dog                  511\nDachshund                              510\nBoxer                                  360\nBorder Collie                          334\nMiniature Poodle                       310\nAustralian Shepherd                    229\nYorkshire Terrier                      226\nJack Russell Terrier                   222\nMiniature Schnauzer                    220\nBeagle                                 220\nCatahoula                              218\nRat Terrier                            215\nSiberian Husky                         194\nRottweiler                             181\nShih Tzu                               176\nChihuahua Longhair                     168\nCairn Terrier                          142\nPointer                                139\nGreat Pyrenees                         131\nAmerican Bulldog                       130\nAnatol Shepherd                        118\nAustralian Kelpie                      116\nStaffordshire                          112\nMaltese                                111\nPug                                    111\nAmerican Staffordshire Terrier         110\nGolden Retriever                       107\nMiniature Pinscher                     102\nPlott Hound                             96\nChow Chow                               95\nBlack Mouth Cur                         89\nCardigan Welsh Corgi                    84\nCocker Spaniel                          84\nAmerican Pit Bull Terrier               83\nBasset Hound                            71\nDoberman Pinsch                         71\nLhasa Apso                              70\nBoston Terrier                          67\nQueensland Heeler                       61\nBlue Lacy                               59\nPomeranian                              57\nDachshund Wirehair                      56\nManchester Terrier                      56\nDachshund Longhair                      54\nBorder Terrier                          53\nCarolina Dog                            48\nFlat Coat Retriever                     48\nToy Poodle                              45\nChinese Sharpei                         43\nEnglish Bulldog                         43\nCollie Smooth                           43\nGreat Dane                              43\nPekingese                               38\nBull Terrier                            38\nRhod Ridgeback                          38\nShetland Sheepdog                       37\nMastiff                                 36\nWhippet                                 34\nPembroke Welsh Corgi                    30\nNorfolk Terrier                         30\nSoft Coated Wheaten Terrier             29\nWeimaraner                              27\nBruss Griffon                           26\nBlack                                   25\nRedbone Hound                           25\nGerman Shorthair Pointer                24\nParson Russell Terrier                  23\nWest Highland                           22\nWire Hair Fox Terrier                   21\nShiba Inu                               21\nAkita                                   21\nHarrier                                 21\nBichon Frise                            20\nStandard Poodle                         20\nPapillon                                19\nCollie Rough                            19\nBasenji                                 18\nNorwich Terrier                         18\nGreyhound                               18\nBelgian Malinois                        18\nVizsla                                  17\nDogo Argentino                          17\nDalmatian                               17\nStandard Schnauzer                      17\nAlaskan Husky                           16\nItalian Greyhound                       15\nEnglish Pointer                         15\nBulldog                                 14\nAmerican Eskimo                         14\nPharaoh Hound                           13\nChesa Bay Retr                          13\nPbgv                                    13\nSt. Bernard Smooth Coat                 12\nCavalier Span                           12\nBeauceron                               12\nNewfoundland                            12\nFinnish Spitz                           11\nAlaskan Malamute                        11\nFrench Bulldog                          11\nBrittany                                11\nHavanese                                11\nBullmastiff                             11\nSt. Bernard Rough Coat                  10\nSmooth Fox Terrier                      10\nLeonberger                               9\nDutch Shepherd                           9\nBernese Mountain Dog                     9\nSchipperke                               9\nTreeing Walker Coonhound                 9\nToy Fox Terrier                          8\nEnglish Springer Spaniel                 8\nEnglish Coonhound                        8\nSilky Terrier                            8\nCane Corso                               8\nTibetan Terrier                          8\nAiredale Terrier                         8\nBloodhound                               8\nBluetick Hound                           7\nIrish Terrier                            6\nPatterdale Terr                          6\nKeeshond                                 6\nIrish Wolfhound                          6\nFeist                                    6\nSwedish Vallhund                         6\nLandseer                                 6\nAffenpinscher                            6\nSaluki                                   5\nCanaan Dog                               5\nScottish Terrier                         5\nGerman Wirehaired Pointer                5\nChinese Crested                          5\nDogue De Bordeaux                        5\nWelsh Terrier                            5\nAmerican Foxhound                        5\nPodengo Pequeno                          5\nBoykin Span                              4\nAustralian Terrier                       4\nTibetan Spaniel                          4\nGlen Of Imaal                            4\nGreater Swiss Mountain Dog               4\nSchnauzer Giant                          4\nBoerboel                                 4\nTreeing Cur                              4\nSkye Terrier                             4\nBull Terrier Miniature                   3\nNova Scotia Duck Tolling Retriever       3\nPresa Canario                            3\nJapanese Chin                            3\nBelgian Sheepdog                         3\nBedlington Terr                          3\nSamoyed                                  3\nIbizan Hound                             3\nOld English Bulldog                      3\nIrish Setter                             3\nEnglish Foxhound                         3\nJindo                                    3\nEnglish Shepherd                         3\nPicardy Sheepdog                         3\nNeapolitan Mastiff                       2\nField Spaniel                            2\nWirehaired Pointing Griffon              2\nOld English Sheepdog                     2\nGerman Pinscher                          2\nWelsh Springer Spaniel                   2\nBearded Collie                           2\nEnglish Setter                           2\nBelgian Tervuren                         2\nUnknown                                  2\nPort Water Dog                           2\nEnglish Cocker Spaniel                   1\nSwiss Hound                              1\nLowchen                                  1\nSpanish Mastiff                          1\nTreeing Tennesse Brindle                 1\nNorwegian Elkhound                       1\nHovawart                                 1\nMexican Hairless                         1\nAfghan Hound                             1\nSealyham Terr                            1\nKuvasz                                   1\nEntlebucher                              1\nOtterhound                               1\nSpinone Italiano                         1\nName: Breed, dtype: int64"
     },
     "execution_count": 28,
     "metadata": {},
     "output_type": "execute_result"
    }
   ],
   "source": [
    "data[data.AnimalType == 'Dog'].Breed.value_counts()"
   ]
  },
  {
   "cell_type": "code",
   "execution_count": 29,
   "metadata": {},
   "outputs": [
    {
     "data": {
      "text/plain": "33"
     },
     "execution_count": 29,
     "metadata": {},
     "output_type": "execute_result"
    }
   ],
   "source": [
    "data[data.AnimalType == 'Cat'].Breed.nunique() #still a reduction by about 50%, but initial values were much lower anyway"
   ]
  },
  {
   "cell_type": "code",
   "execution_count": 30,
   "metadata": {},
   "outputs": [
    {
     "data": {
      "text/plain": "Domestic Shorthair      8958\nDomestic Medium Hair     883\nDomestic Longhair        547\nSiamese                  426\nSnowshoe                  78\nManx                      48\nMaine Coon                47\nRussian Blue              35\nHimalayan                 18\nPersian                   14\nRagdoll                   12\nAmerican Shorthair         9\nAngora                     7\nJapanese Bobtail           6\nBalinese                   5\nBombay                     5\nBengal                     5\nBritish Shorthair          4\nTonkinese                  4\nPixiebob Shorthair         3\nDevon Rex                  2\nJavanese                   2\nExotic Shorthair           2\nSphynx                     2\nAbyssinian                 2\nTurkish Van                2\nCymric                     2\nCornish Rex                1\nBurmese                    1\nOcicat                     1\nMunchkin Longhair          1\nNorwegian Forest Cat       1\nHavana Brown               1\nName: Breed, dtype: int64"
     },
     "execution_count": 30,
     "metadata": {},
     "output_type": "execute_result"
    }
   ],
   "source": [
    "data[data.AnimalType == 'Cat'].Breed.value_counts()"
   ]
  },
  {
   "cell_type": "code",
   "execution_count": 31,
   "metadata": {},
   "outputs": [],
   "source": [
    "#data.to_csv('data/transformed_data.csv',index_label='AnimalID')"
   ]
  },
  {
   "cell_type": "markdown",
   "metadata": {},
   "source": [
    "## transform to numeric features\n",
    "\n",
    "transform non-numeric features for modeling"
   ]
  },
  {
   "cell_type": "code",
   "execution_count": 32,
   "metadata": {},
   "outputs": [],
   "source": [
    "data_num = data.drop(labels=['Name','DateTime','Breed','Color'],axis=1)"
   ]
  },
  {
   "cell_type": "code",
   "execution_count": 33,
   "metadata": {},
   "outputs": [
    {
     "data": {
      "text/plain": "              OutcomeType AnimalType SexuponOutcome  AgeuponOutcome  year  \\\nAnimalID                                                                    \nA671945   Return_to_owner        Dog           Male        1.000000  2014   \nA656520        Euthanasia        Cat         Female        1.000000  2013   \nA686464          Adoption        Dog           Male        2.000000  2015   \nA683430          Transfer        Cat           Male        0.057692  2014   \nA667013          Transfer        Dog           Male        2.000000  2013   \n\n          month  weekday neutralized  ColorMix  BreedMix  \nAnimalID                                                  \nA671945       2        2        True      True     False  \nA656520      10        6        True     False     False  \nA686464       1        5        True      True     False  \nA683430       7        4       False     False     False  \nA667013      11        4        True     False     False  ",
      "text/html": "<div>\n<style scoped>\n    .dataframe tbody tr th:only-of-type {\n        vertical-align: middle;\n    }\n\n    .dataframe tbody tr th {\n        vertical-align: top;\n    }\n\n    .dataframe thead th {\n        text-align: right;\n    }\n</style>\n<table border=\"1\" class=\"dataframe\">\n  <thead>\n    <tr style=\"text-align: right;\">\n      <th></th>\n      <th>OutcomeType</th>\n      <th>AnimalType</th>\n      <th>SexuponOutcome</th>\n      <th>AgeuponOutcome</th>\n      <th>year</th>\n      <th>month</th>\n      <th>weekday</th>\n      <th>neutralized</th>\n      <th>ColorMix</th>\n      <th>BreedMix</th>\n    </tr>\n    <tr>\n      <th>AnimalID</th>\n      <th></th>\n      <th></th>\n      <th></th>\n      <th></th>\n      <th></th>\n      <th></th>\n      <th></th>\n      <th></th>\n      <th></th>\n      <th></th>\n    </tr>\n  </thead>\n  <tbody>\n    <tr>\n      <th>A671945</th>\n      <td>Return_to_owner</td>\n      <td>Dog</td>\n      <td>Male</td>\n      <td>1.000000</td>\n      <td>2014</td>\n      <td>2</td>\n      <td>2</td>\n      <td>True</td>\n      <td>True</td>\n      <td>False</td>\n    </tr>\n    <tr>\n      <th>A656520</th>\n      <td>Euthanasia</td>\n      <td>Cat</td>\n      <td>Female</td>\n      <td>1.000000</td>\n      <td>2013</td>\n      <td>10</td>\n      <td>6</td>\n      <td>True</td>\n      <td>False</td>\n      <td>False</td>\n    </tr>\n    <tr>\n      <th>A686464</th>\n      <td>Adoption</td>\n      <td>Dog</td>\n      <td>Male</td>\n      <td>2.000000</td>\n      <td>2015</td>\n      <td>1</td>\n      <td>5</td>\n      <td>True</td>\n      <td>True</td>\n      <td>False</td>\n    </tr>\n    <tr>\n      <th>A683430</th>\n      <td>Transfer</td>\n      <td>Cat</td>\n      <td>Male</td>\n      <td>0.057692</td>\n      <td>2014</td>\n      <td>7</td>\n      <td>4</td>\n      <td>False</td>\n      <td>False</td>\n      <td>False</td>\n    </tr>\n    <tr>\n      <th>A667013</th>\n      <td>Transfer</td>\n      <td>Dog</td>\n      <td>Male</td>\n      <td>2.000000</td>\n      <td>2013</td>\n      <td>11</td>\n      <td>4</td>\n      <td>True</td>\n      <td>False</td>\n      <td>False</td>\n    </tr>\n  </tbody>\n</table>\n</div>"
     },
     "execution_count": 33,
     "metadata": {},
     "output_type": "execute_result"
    }
   ],
   "source": [
    "data_num.head()"
   ]
  },
  {
   "cell_type": "code",
   "execution_count": 34,
   "metadata": {},
   "outputs": [],
   "source": [
    "data_num['AnimalType'] = data_num.AnimalType.apply(lambda x: 1 if x == 'Dog' else 0)\n",
    "\n",
    "data_num['SexuponOutcome'] = data_num.SexuponOutcome.apply(lambda x: 1 if x == 'Female' else 0)\n",
    "\n",
    "data_num['BreedMix'] = data_num.SexuponOutcome.apply(lambda x: 1 if x == 'True' else 0)\n",
    "\n",
    "data_num['ColorMix'] = data_num.SexuponOutcome.apply(lambda x: 1 if x == 'True' else 0)\n",
    "\n",
    "data_num['neutralized'] = data_num.neutralized.apply(float)"
   ]
  },
  {
   "cell_type": "code",
   "execution_count": 35,
   "metadata": {},
   "outputs": [
    {
     "data": {
      "text/plain": "              OutcomeType  AnimalType  SexuponOutcome  AgeuponOutcome  year  \\\nAnimalID                                                                      \nA671945   Return_to_owner           1               0        1.000000  2014   \nA656520        Euthanasia           0               1        1.000000  2013   \nA686464          Adoption           1               0        2.000000  2015   \nA683430          Transfer           0               0        0.057692  2014   \nA667013          Transfer           1               0        2.000000  2013   \n\n          month  weekday  neutralized  ColorMix  BreedMix  \nAnimalID                                                   \nA671945       2        2          1.0         0         0  \nA656520      10        6          1.0         0         0  \nA686464       1        5          1.0         0         0  \nA683430       7        4          0.0         0         0  \nA667013      11        4          1.0         0         0  ",
      "text/html": "<div>\n<style scoped>\n    .dataframe tbody tr th:only-of-type {\n        vertical-align: middle;\n    }\n\n    .dataframe tbody tr th {\n        vertical-align: top;\n    }\n\n    .dataframe thead th {\n        text-align: right;\n    }\n</style>\n<table border=\"1\" class=\"dataframe\">\n  <thead>\n    <tr style=\"text-align: right;\">\n      <th></th>\n      <th>OutcomeType</th>\n      <th>AnimalType</th>\n      <th>SexuponOutcome</th>\n      <th>AgeuponOutcome</th>\n      <th>year</th>\n      <th>month</th>\n      <th>weekday</th>\n      <th>neutralized</th>\n      <th>ColorMix</th>\n      <th>BreedMix</th>\n    </tr>\n    <tr>\n      <th>AnimalID</th>\n      <th></th>\n      <th></th>\n      <th></th>\n      <th></th>\n      <th></th>\n      <th></th>\n      <th></th>\n      <th></th>\n      <th></th>\n      <th></th>\n    </tr>\n  </thead>\n  <tbody>\n    <tr>\n      <th>A671945</th>\n      <td>Return_to_owner</td>\n      <td>1</td>\n      <td>0</td>\n      <td>1.000000</td>\n      <td>2014</td>\n      <td>2</td>\n      <td>2</td>\n      <td>1.0</td>\n      <td>0</td>\n      <td>0</td>\n    </tr>\n    <tr>\n      <th>A656520</th>\n      <td>Euthanasia</td>\n      <td>0</td>\n      <td>1</td>\n      <td>1.000000</td>\n      <td>2013</td>\n      <td>10</td>\n      <td>6</td>\n      <td>1.0</td>\n      <td>0</td>\n      <td>0</td>\n    </tr>\n    <tr>\n      <th>A686464</th>\n      <td>Adoption</td>\n      <td>1</td>\n      <td>0</td>\n      <td>2.000000</td>\n      <td>2015</td>\n      <td>1</td>\n      <td>5</td>\n      <td>1.0</td>\n      <td>0</td>\n      <td>0</td>\n    </tr>\n    <tr>\n      <th>A683430</th>\n      <td>Transfer</td>\n      <td>0</td>\n      <td>0</td>\n      <td>0.057692</td>\n      <td>2014</td>\n      <td>7</td>\n      <td>4</td>\n      <td>0.0</td>\n      <td>0</td>\n      <td>0</td>\n    </tr>\n    <tr>\n      <th>A667013</th>\n      <td>Transfer</td>\n      <td>1</td>\n      <td>0</td>\n      <td>2.000000</td>\n      <td>2013</td>\n      <td>11</td>\n      <td>4</td>\n      <td>1.0</td>\n      <td>0</td>\n      <td>0</td>\n    </tr>\n  </tbody>\n</table>\n</div>"
     },
     "execution_count": 35,
     "metadata": {},
     "output_type": "execute_result"
    }
   ],
   "source": [
    "data_num.head()"
   ]
  },
  {
   "cell_type": "code",
   "execution_count": 36,
   "metadata": {
    "pycharm": {
     "name": "#%%\n"
    }
   },
   "outputs": [],
   "source": [
    "#save data\n",
    "# data_num.to_csv('data/transformed_data_num.csv',index_label='AnimalID')"
   ]
  }
 ],
 "metadata": {
  "kernelspec": {
   "display_name": "Python 3",
   "language": "python",
   "name": "python3"
  },
  "language_info": {
   "codemirror_mode": {
    "name": "ipython",
    "version": 3
   },
   "file_extension": ".py",
   "mimetype": "text/x-python",
   "name": "python",
   "nbconvert_exporter": "python",
   "pygments_lexer": "ipython3",
   "version": "3.8.5"
  }
 },
 "nbformat": 4,
 "nbformat_minor": 5
}