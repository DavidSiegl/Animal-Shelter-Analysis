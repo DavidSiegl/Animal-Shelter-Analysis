{
 "cells": [
  {
   "cell_type": "code",
   "execution_count": 1,
   "id": "e88be441",
   "metadata": {},
   "outputs": [],
   "source": [
    "import datetime as dt\n",
    "\n",
    "import numpy as np\n",
    "import pandas as pd"
   ]
  },
  {
   "cell_type": "code",
   "execution_count": 2,
   "id": "9a393f95",
   "metadata": {},
   "outputs": [],
   "source": [
    "#make pandas display large datasets without '...'s\n",
    "pd.set_option('display.max_rows', None)\n",
    "pd.set_option('display.max_columns', None)\n",
    "pd.set_option('display.width', None)\n"
   ]
  },
  {
   "cell_type": "code",
   "execution_count": 3,
   "id": "eb2bae33",
   "metadata": {},
   "outputs": [],
   "source": [
    "data = pd.read_csv('data/raw_data.csv', index_col=0)"
   ]
  },
  {
   "cell_type": "code",
   "execution_count": 4,
   "id": "b00e1ac4",
   "metadata": {
    "scrolled": false
   },
   "outputs": [
    {
     "data": {
      "text/plain": "            Name             DateTime OutcomeType OutcomeSubtype AnimalType  \\\nAnimalID                                                                      \nA691402   Bobbie  2014-11-07 18:24:00    Adoption            NaN        Dog   \nA711660    Dinah  2015-12-12 17:40:00    Adoption         Foster        Cat   \nA704805      NaN  2015-06-09 15:54:00    Transfer        Partner        Cat   \nA709714      NaN  2015-08-12 14:33:00  Euthanasia      Suffering        Cat   \nA701680    Bruno  2015-05-10 16:08:00    Transfer        Partner        Dog   \nA692273    Molly  2014-12-29 11:43:00    Adoption         Foster        Dog   \nA710965      NaN  2015-08-31 11:17:00    Transfer        Partner        Cat   \nA657228    Tiger  2013-10-11 11:34:00    Transfer        Partner        Dog   \nA681829      NaN  2014-06-20 18:28:00    Transfer        Partner        Cat   \nA671563    Monty  2014-04-19 11:27:00    Adoption         Foster        Cat   \n\n         SexuponOutcome AgeuponOutcome                    Breed  \\\nAnimalID                                                          \nA691402   Neutered Male        2 years  Miniature Schnauzer Mix   \nA711660   Spayed Female       4 months   Domestic Shorthair Mix   \nA704805         Unknown        3 weeks   Domestic Shorthair Mix   \nA709714         Unknown         1 week   Domestic Shorthair Mix   \nA701680     Intact Male       2 months      Chihuahua Shorthair   \nA692273   Spayed Female        4 years            Dachshund Mix   \nA710965   Intact Female        3 weeks    Domestic Longhair Mix   \nA657228   Neutered Male        8 years             Pit Bull Mix   \nA681829   Intact Female        1 month   Domestic Shorthair Mix   \nA671563   Neutered Male       8 months   Domestic Shorthair Mix   \n\n                        Color  \nAnimalID                       \nA691402                  Gray  \nA711660                 Black  \nA704805           Brown Tabby  \nA709714           Black Tabby  \nA701680                 Brown  \nA692273                   Red  \nA710965       Tricolor/Calico  \nA657228   Brown Brindle/White  \nA681829                 Black  \nA671563           Brown Tabby  ",
      "text/html": "<div>\n<style scoped>\n    .dataframe tbody tr th:only-of-type {\n        vertical-align: middle;\n    }\n\n    .dataframe tbody tr th {\n        vertical-align: top;\n    }\n\n    .dataframe thead th {\n        text-align: right;\n    }\n</style>\n<table border=\"1\" class=\"dataframe\">\n  <thead>\n    <tr style=\"text-align: right;\">\n      <th></th>\n      <th>Name</th>\n      <th>DateTime</th>\n      <th>OutcomeType</th>\n      <th>OutcomeSubtype</th>\n      <th>AnimalType</th>\n      <th>SexuponOutcome</th>\n      <th>AgeuponOutcome</th>\n      <th>Breed</th>\n      <th>Color</th>\n    </tr>\n    <tr>\n      <th>AnimalID</th>\n      <th></th>\n      <th></th>\n      <th></th>\n      <th></th>\n      <th></th>\n      <th></th>\n      <th></th>\n      <th></th>\n      <th></th>\n    </tr>\n  </thead>\n  <tbody>\n    <tr>\n      <th>A691402</th>\n      <td>Bobbie</td>\n      <td>2014-11-07 18:24:00</td>\n      <td>Adoption</td>\n      <td>NaN</td>\n      <td>Dog</td>\n      <td>Neutered Male</td>\n      <td>2 years</td>\n      <td>Miniature Schnauzer Mix</td>\n      <td>Gray</td>\n    </tr>\n    <tr>\n      <th>A711660</th>\n      <td>Dinah</td>\n      <td>2015-12-12 17:40:00</td>\n      <td>Adoption</td>\n      <td>Foster</td>\n      <td>Cat</td>\n      <td>Spayed Female</td>\n      <td>4 months</td>\n      <td>Domestic Shorthair Mix</td>\n      <td>Black</td>\n    </tr>\n    <tr>\n      <th>A704805</th>\n      <td>NaN</td>\n      <td>2015-06-09 15:54:00</td>\n      <td>Transfer</td>\n      <td>Partner</td>\n      <td>Cat</td>\n      <td>Unknown</td>\n      <td>3 weeks</td>\n      <td>Domestic Shorthair Mix</td>\n      <td>Brown Tabby</td>\n    </tr>\n    <tr>\n      <th>A709714</th>\n      <td>NaN</td>\n      <td>2015-08-12 14:33:00</td>\n      <td>Euthanasia</td>\n      <td>Suffering</td>\n      <td>Cat</td>\n      <td>Unknown</td>\n      <td>1 week</td>\n      <td>Domestic Shorthair Mix</td>\n      <td>Black Tabby</td>\n    </tr>\n    <tr>\n      <th>A701680</th>\n      <td>Bruno</td>\n      <td>2015-05-10 16:08:00</td>\n      <td>Transfer</td>\n      <td>Partner</td>\n      <td>Dog</td>\n      <td>Intact Male</td>\n      <td>2 months</td>\n      <td>Chihuahua Shorthair</td>\n      <td>Brown</td>\n    </tr>\n    <tr>\n      <th>A692273</th>\n      <td>Molly</td>\n      <td>2014-12-29 11:43:00</td>\n      <td>Adoption</td>\n      <td>Foster</td>\n      <td>Dog</td>\n      <td>Spayed Female</td>\n      <td>4 years</td>\n      <td>Dachshund Mix</td>\n      <td>Red</td>\n    </tr>\n    <tr>\n      <th>A710965</th>\n      <td>NaN</td>\n      <td>2015-08-31 11:17:00</td>\n      <td>Transfer</td>\n      <td>Partner</td>\n      <td>Cat</td>\n      <td>Intact Female</td>\n      <td>3 weeks</td>\n      <td>Domestic Longhair Mix</td>\n      <td>Tricolor/Calico</td>\n    </tr>\n    <tr>\n      <th>A657228</th>\n      <td>Tiger</td>\n      <td>2013-10-11 11:34:00</td>\n      <td>Transfer</td>\n      <td>Partner</td>\n      <td>Dog</td>\n      <td>Neutered Male</td>\n      <td>8 years</td>\n      <td>Pit Bull Mix</td>\n      <td>Brown Brindle/White</td>\n    </tr>\n    <tr>\n      <th>A681829</th>\n      <td>NaN</td>\n      <td>2014-06-20 18:28:00</td>\n      <td>Transfer</td>\n      <td>Partner</td>\n      <td>Cat</td>\n      <td>Intact Female</td>\n      <td>1 month</td>\n      <td>Domestic Shorthair Mix</td>\n      <td>Black</td>\n    </tr>\n    <tr>\n      <th>A671563</th>\n      <td>Monty</td>\n      <td>2014-04-19 11:27:00</td>\n      <td>Adoption</td>\n      <td>Foster</td>\n      <td>Cat</td>\n      <td>Neutered Male</td>\n      <td>8 months</td>\n      <td>Domestic Shorthair Mix</td>\n      <td>Brown Tabby</td>\n    </tr>\n  </tbody>\n</table>\n</div>"
     },
     "execution_count": 4,
     "metadata": {},
     "output_type": "execute_result"
    }
   ],
   "source": [
    "data.sample(10)  #what does the data look like?"
   ]
  },
  {
   "cell_type": "markdown",
   "id": "c9195647",
   "metadata": {},
   "source": [
    "## standardize AgeuponOutcome to years"
   ]
  },
  {
   "cell_type": "code",
   "execution_count": 5,
   "id": "5077a096",
   "metadata": {},
   "outputs": [
    {
     "data": {
      "text/plain": "1 year       3969\n2 years      3742\n2 months     3397\n3 years      1823\n1 month      1281\n3 months     1277\n4 years      1071\n5 years       992\n4 months      888\n6 years       670\n3 weeks       659\n5 months      652\n6 months      588\n8 years       536\n7 years       531\n2 weeks       529\n10 months     457\n10 years      446\n8 months      402\n4 weeks       334\n9 years       288\n7 months      288\n12 years      234\n9 months      224\n1 weeks       171\n11 months     166\n1 week        146\n13 years      143\n11 years      126\n3 days        109\n2 days         99\n14 years       97\n15 years       85\n1 day          66\n6 days         50\n4 days         50\n16 years       36\n5 days         24\n0 years        22\nNaN            18\n17 years       17\n5 weeks        11\n18 years       10\n19 years        3\n20 years        2\nName: AgeuponOutcome, dtype: int64"
     },
     "execution_count": 5,
     "metadata": {},
     "output_type": "execute_result"
    }
   ],
   "source": [
    "data.AgeuponOutcome.value_counts(dropna=False)  #what are the old values? for comparison with the result"
   ]
  },
  {
   "cell_type": "code",
   "execution_count": 6,
   "id": "dd23c9e8",
   "metadata": {},
   "outputs": [],
   "source": [
    "def transform_to_years(age_string):\n",
    "    '''takes as input the AgeuponOutcome feature of the raw data and outputs the corresponding number of years'''\n",
    "\n",
    "    if age_string is np.nan:\n",
    "        return np.nan\n",
    "\n",
    "    split_string = age_string.split()\n",
    "\n",
    "    if split_string[1].strip('s') == 'year':\n",
    "        return float(split_string[0])\n",
    "\n",
    "    elif split_string[1].strip('s') == 'month':\n",
    "        return float(split_string[0]) / 12\n",
    "\n",
    "    elif split_string[1].strip('s') == 'week':\n",
    "        return float(split_string[0]) / 52\n",
    "\n",
    "    elif split_string[1].strip('s') == 'day':\n",
    "        return float(split_string[0]) / 365"
   ]
  },
  {
   "cell_type": "code",
   "execution_count": 7,
   "id": "b965f8f8",
   "metadata": {},
   "outputs": [],
   "source": [
    "data['AgeuponOutcome'] = data.AgeuponOutcome.apply(transform_to_years)  #apply the function"
   ]
  },
  {
   "cell_type": "code",
   "execution_count": 8,
   "id": "765fd905",
   "metadata": {},
   "outputs": [
    {
     "data": {
      "text/plain": "1.000000     3969\n2.000000     3742\n0.166667     3397\n3.000000     1823\n0.083333     1281\n0.250000     1277\n4.000000     1071\n5.000000      992\n0.333333      888\n6.000000      670\n0.057692      659\n0.416667      652\n0.500000      588\n8.000000      536\n7.000000      531\n0.038462      529\n0.833333      457\n10.000000     446\n0.666667      402\n0.076923      334\n0.019231      317\n9.000000      288\n0.583333      288\n12.000000     234\n0.750000      224\n0.916667      166\n13.000000     143\n11.000000     126\n0.008219      109\n0.005479       99\n14.000000      97\n15.000000      85\n0.002740       66\n0.010959       50\n0.016438       50\n16.000000      36\n0.013699       24\n0.000000       22\nNaN            18\n17.000000      17\n0.096154       11\n18.000000      10\n19.000000       3\n20.000000       2\nName: AgeuponOutcome, dtype: int64"
     },
     "execution_count": 8,
     "metadata": {},
     "output_type": "execute_result"
    }
   ],
   "source": [
    "data.AgeuponOutcome.value_counts(dropna=False)  #looks good"
   ]
  },
  {
   "cell_type": "markdown",
   "id": "cbdbae5b",
   "metadata": {},
   "source": [
    "## transform date column"
   ]
  },
  {
   "cell_type": "code",
   "execution_count": 9,
   "id": "a455f41f",
   "metadata": {},
   "outputs": [],
   "source": [
    "#for now i just extract the year and month since these are the features we need for data understanding\n",
    "\n",
    "data['year'] = data.DateTime.apply(lambda x: dt.datetime.strptime(x, '%Y-%m-%d %H:%M:%S').year)\n",
    "data['month'] = data.DateTime.apply(lambda x: dt.datetime.strptime(x, '%Y-%m-%d %H:%M:%S').month)\n"
   ]
  },
  {
   "cell_type": "markdown",
   "id": "bda33a6a",
   "metadata": {},
   "source": [
    "## transform SexuponOutcome"
   ]
  },
  {
   "cell_type": "code",
   "execution_count": 10,
   "id": "67d9de85",
   "metadata": {},
   "outputs": [
    {
     "data": {
      "text/plain": "Neutered Male    9779\nSpayed Female    8820\nIntact Male      3525\nIntact Female    3511\nUnknown          1093\nNaN                 1\nName: SexuponOutcome, dtype: int64"
     },
     "execution_count": 10,
     "metadata": {},
     "output_type": "execute_result"
    }
   ],
   "source": [
    "data.SexuponOutcome.value_counts(dropna=False)  #what are the old values?"
   ]
  },
  {
   "cell_type": "code",
   "execution_count": 11,
   "id": "eee23369",
   "metadata": {},
   "outputs": [],
   "source": [
    "def transform_sex(sex_string, neutralized=False):\n",
    "    '''takes as input the SexuponOutcome feature and returns just the sex or if the animal was neutralized'''\n",
    "\n",
    "    if (sex_string is np.nan) or (sex_string == 'Unknown'):\n",
    "        return np.nan\n",
    "\n",
    "    split_string = sex_string.split()\n",
    "\n",
    "    if neutralized:\n",
    "        if split_string[0] == 'Intact':\n",
    "            return False\n",
    "        else:\n",
    "            return True\n",
    "    else:\n",
    "        return split_string[1]"
   ]
  },
  {
   "cell_type": "code",
   "execution_count": 12,
   "id": "b1192b30",
   "metadata": {},
   "outputs": [],
   "source": [
    "#apply the function\n",
    "data['neutralized'] = data.SexuponOutcome.apply(lambda x: transform_sex(x, True))\n",
    "data['SexuponOutcome'] = data.SexuponOutcome.apply(transform_sex)"
   ]
  },
  {
   "cell_type": "code",
   "execution_count": 13,
   "id": "1d31f21d",
   "metadata": {},
   "outputs": [
    {
     "data": {
      "text/plain": "Male      13304\nFemale    12331\nNaN        1094\nName: SexuponOutcome, dtype: int64"
     },
     "execution_count": 13,
     "metadata": {},
     "output_type": "execute_result"
    }
   ],
   "source": [
    "data.SexuponOutcome.value_counts(dropna=False)  #looks good"
   ]
  },
  {
   "cell_type": "code",
   "execution_count": 14,
   "id": "8a1132ec",
   "metadata": {},
   "outputs": [
    {
     "data": {
      "text/plain": "True     18599\nFalse     7036\nNaN       1094\nName: neutralized, dtype: int64"
     },
     "execution_count": 14,
     "metadata": {},
     "output_type": "execute_result"
    }
   ],
   "source": [
    "data.neutralized.value_counts(dropna=False)  #looks good"
   ]
  },
  {
   "cell_type": "markdown",
   "id": "e983c414",
   "metadata": {},
   "source": [
    "## finish"
   ]
  },
  {
   "cell_type": "code",
   "execution_count": 15,
   "id": "9c268a5b",
   "metadata": {},
   "outputs": [
    {
     "data": {
      "text/plain": "            Name             DateTime      OutcomeType OutcomeSubtype  \\\nAnimalID                                                                \nA575839    Sushi  2014-07-18 18:34:00         Adoption            NaN   \nA695335      NaN  2015-01-15 09:00:00         Transfer           SCRP   \nA689218   Nelson  2014-11-25 12:50:00         Transfer        Partner   \nA676668      NaN  2014-04-13 17:36:00         Transfer        Partner   \nA693195     Leia  2014-12-07 13:08:00         Adoption            NaN   \nA701477     Lucy  2015-04-30 18:34:00  Return_to_owner            NaN   \nA688151     Thor  2014-09-24 14:20:00         Adoption            NaN   \nA714763     Lucy  2015-12-16 14:38:00         Transfer        Partner   \nA692891      NaN  2014-11-27 13:51:00       Euthanasia      Suffering   \nA671226    Chloe  2014-01-27 16:07:00         Transfer        Partner   \n\n         AnimalType SexuponOutcome  AgeuponOutcome                   Breed  \\\nAnimalID                                                                     \nA575839         Cat         Female        4.000000  Domestic Shorthair Mix   \nA695335         Cat            NaN        1.000000  Domestic Shorthair Mix   \nA689218         Dog           Male        1.000000           Catahoula Mix   \nA676668         Cat           Male        0.057692  Domestic Shorthair Mix   \nA693195         Dog         Female        5.000000    Miniature Poodle Mix   \nA701477         Dog         Female        7.000000           Border Collie   \nA688151         Dog           Male        5.000000         German Shepherd   \nA714763         Dog         Female        2.000000            Pit Bull Mix   \nA692891         Dog         Female        0.250000            Pit Bull Mix   \nA671226         Dog         Female        2.000000        Dachshund/Beagle   \n\n                      Color  year  month neutralized  \nAnimalID                                              \nA575839              Tortie  2014      7        True  \nA695335         Brown Tabby  2015      1         NaN  \nA689218           White/Tan  2014     11        True  \nA676668   Brown Tabby/White  2014      4       False  \nA693195               White  2014     12       False  \nA701477         Black/White  2015      4        True  \nA688151         Black/Brown  2014      9        True  \nA714763          Fawn/White  2015     12        True  \nA692891          Blue/White  2014     11       False  \nA671226         Black/White  2014      1        True  ",
      "text/html": "<div>\n<style scoped>\n    .dataframe tbody tr th:only-of-type {\n        vertical-align: middle;\n    }\n\n    .dataframe tbody tr th {\n        vertical-align: top;\n    }\n\n    .dataframe thead th {\n        text-align: right;\n    }\n</style>\n<table border=\"1\" class=\"dataframe\">\n  <thead>\n    <tr style=\"text-align: right;\">\n      <th></th>\n      <th>Name</th>\n      <th>DateTime</th>\n      <th>OutcomeType</th>\n      <th>OutcomeSubtype</th>\n      <th>AnimalType</th>\n      <th>SexuponOutcome</th>\n      <th>AgeuponOutcome</th>\n      <th>Breed</th>\n      <th>Color</th>\n      <th>year</th>\n      <th>month</th>\n      <th>neutralized</th>\n    </tr>\n    <tr>\n      <th>AnimalID</th>\n      <th></th>\n      <th></th>\n      <th></th>\n      <th></th>\n      <th></th>\n      <th></th>\n      <th></th>\n      <th></th>\n      <th></th>\n      <th></th>\n      <th></th>\n      <th></th>\n    </tr>\n  </thead>\n  <tbody>\n    <tr>\n      <th>A575839</th>\n      <td>Sushi</td>\n      <td>2014-07-18 18:34:00</td>\n      <td>Adoption</td>\n      <td>NaN</td>\n      <td>Cat</td>\n      <td>Female</td>\n      <td>4.000000</td>\n      <td>Domestic Shorthair Mix</td>\n      <td>Tortie</td>\n      <td>2014</td>\n      <td>7</td>\n      <td>True</td>\n    </tr>\n    <tr>\n      <th>A695335</th>\n      <td>NaN</td>\n      <td>2015-01-15 09:00:00</td>\n      <td>Transfer</td>\n      <td>SCRP</td>\n      <td>Cat</td>\n      <td>NaN</td>\n      <td>1.000000</td>\n      <td>Domestic Shorthair Mix</td>\n      <td>Brown Tabby</td>\n      <td>2015</td>\n      <td>1</td>\n      <td>NaN</td>\n    </tr>\n    <tr>\n      <th>A689218</th>\n      <td>Nelson</td>\n      <td>2014-11-25 12:50:00</td>\n      <td>Transfer</td>\n      <td>Partner</td>\n      <td>Dog</td>\n      <td>Male</td>\n      <td>1.000000</td>\n      <td>Catahoula Mix</td>\n      <td>White/Tan</td>\n      <td>2014</td>\n      <td>11</td>\n      <td>True</td>\n    </tr>\n    <tr>\n      <th>A676668</th>\n      <td>NaN</td>\n      <td>2014-04-13 17:36:00</td>\n      <td>Transfer</td>\n      <td>Partner</td>\n      <td>Cat</td>\n      <td>Male</td>\n      <td>0.057692</td>\n      <td>Domestic Shorthair Mix</td>\n      <td>Brown Tabby/White</td>\n      <td>2014</td>\n      <td>4</td>\n      <td>False</td>\n    </tr>\n    <tr>\n      <th>A693195</th>\n      <td>Leia</td>\n      <td>2014-12-07 13:08:00</td>\n      <td>Adoption</td>\n      <td>NaN</td>\n      <td>Dog</td>\n      <td>Female</td>\n      <td>5.000000</td>\n      <td>Miniature Poodle Mix</td>\n      <td>White</td>\n      <td>2014</td>\n      <td>12</td>\n      <td>False</td>\n    </tr>\n    <tr>\n      <th>A701477</th>\n      <td>Lucy</td>\n      <td>2015-04-30 18:34:00</td>\n      <td>Return_to_owner</td>\n      <td>NaN</td>\n      <td>Dog</td>\n      <td>Female</td>\n      <td>7.000000</td>\n      <td>Border Collie</td>\n      <td>Black/White</td>\n      <td>2015</td>\n      <td>4</td>\n      <td>True</td>\n    </tr>\n    <tr>\n      <th>A688151</th>\n      <td>Thor</td>\n      <td>2014-09-24 14:20:00</td>\n      <td>Adoption</td>\n      <td>NaN</td>\n      <td>Dog</td>\n      <td>Male</td>\n      <td>5.000000</td>\n      <td>German Shepherd</td>\n      <td>Black/Brown</td>\n      <td>2014</td>\n      <td>9</td>\n      <td>True</td>\n    </tr>\n    <tr>\n      <th>A714763</th>\n      <td>Lucy</td>\n      <td>2015-12-16 14:38:00</td>\n      <td>Transfer</td>\n      <td>Partner</td>\n      <td>Dog</td>\n      <td>Female</td>\n      <td>2.000000</td>\n      <td>Pit Bull Mix</td>\n      <td>Fawn/White</td>\n      <td>2015</td>\n      <td>12</td>\n      <td>True</td>\n    </tr>\n    <tr>\n      <th>A692891</th>\n      <td>NaN</td>\n      <td>2014-11-27 13:51:00</td>\n      <td>Euthanasia</td>\n      <td>Suffering</td>\n      <td>Dog</td>\n      <td>Female</td>\n      <td>0.250000</td>\n      <td>Pit Bull Mix</td>\n      <td>Blue/White</td>\n      <td>2014</td>\n      <td>11</td>\n      <td>False</td>\n    </tr>\n    <tr>\n      <th>A671226</th>\n      <td>Chloe</td>\n      <td>2014-01-27 16:07:00</td>\n      <td>Transfer</td>\n      <td>Partner</td>\n      <td>Dog</td>\n      <td>Female</td>\n      <td>2.000000</td>\n      <td>Dachshund/Beagle</td>\n      <td>Black/White</td>\n      <td>2014</td>\n      <td>1</td>\n      <td>True</td>\n    </tr>\n  </tbody>\n</table>\n</div>"
     },
     "execution_count": 15,
     "metadata": {},
     "output_type": "execute_result"
    }
   ],
   "source": [
    "data.sample(10)  #check another time"
   ]
  },
  {
   "cell_type": "code",
   "execution_count": 16,
   "id": "935693f4",
   "metadata": {},
   "outputs": [],
   "source": [
    "#save data\n",
    "#data.to_csv('data/transformed_data.csv',index_label='AnimalID')"
   ]
  }
 ],
 "metadata": {
  "kernelspec": {
   "display_name": "Python 3 (ipykernel)",
   "language": "python",
   "name": "python3"
  },
  "language_info": {
   "codemirror_mode": {
    "name": "ipython",
    "version": 3
   },
   "file_extension": ".py",
   "mimetype": "text/x-python",
   "name": "python",
   "nbconvert_exporter": "python",
   "pygments_lexer": "ipython3",
   "version": "3.7.11"
  }
 },
 "nbformat": 4,
 "nbformat_minor": 5
}