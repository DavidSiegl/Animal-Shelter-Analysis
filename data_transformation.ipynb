{
 "cells": [
  {
   "cell_type": "code",
   "execution_count": 1,
   "id": "2ea9e87f",
   "metadata": {},
   "outputs": [],
   "source": [
    "import datetime as dt\n",
    "\n",
    "import numpy as np\n",
    "import pandas as pd"
   ]
  },
  {
   "cell_type": "code",
   "execution_count": 2,
   "id": "92089373",
   "metadata": {},
   "outputs": [],
   "source": [
    "#make pandas display large datasets without '...'s\n",
    "pd.set_option('display.max_rows', None)\n",
    "pd.set_option('display.max_columns', None)\n",
    "pd.set_option('display.width', None)\n"
   ]
  },
  {
   "cell_type": "code",
   "execution_count": 3,
   "id": "26c9ea62",
   "metadata": {},
   "outputs": [],
   "source": [
    "data = pd.read_csv('data/raw_data.csv', index_col=0)"
   ]
  },
  {
   "cell_type": "code",
   "execution_count": 4,
   "id": "6b711866",
   "metadata": {},
   "outputs": [
    {
     "data": {
      "text/plain": "                 Name             DateTime      OutcomeType OutcomeSubtype  \\\nAnimalID                                                                     \nA705931        Gideon  2015-06-29 17:31:00         Adoption            NaN   \nA698194       Jackson  2015-03-17 17:13:00  Return_to_owner            NaN   \nA666546           Ami  2013-11-12 10:39:00       Euthanasia      Suffering   \nA697180   Mr. Pickles  2015-02-20 14:00:00  Return_to_owner            NaN   \nA684786          Reno  2014-08-03 15:47:00         Transfer        Partner   \nA717008           Taz  2015-12-06 15:12:00         Transfer        Partner   \nA668317       Scottie  2014-02-11 13:48:00         Transfer        Partner   \nA684471       Captain  2014-09-21 15:10:00         Adoption            NaN   \nA718034           NaN  2015-12-25 19:19:00         Transfer           SCRP   \nA563492           Sam  2015-03-10 08:26:00         Adoption         Foster   \n\n         AnimalType SexuponOutcome AgeuponOutcome                    Breed  \\\nAnimalID                                                                     \nA705931         Dog  Neutered Male        8 years   Miniature Pinscher Mix   \nA698194         Dog  Neutered Male        2 years    Australian Cattle Dog   \nA666546         Cat  Intact Female       2 months   Domestic Shorthair Mix   \nA697180         Dog  Neutered Male        7 years             Shih Tzu Mix   \nA684786         Dog    Intact Male      10 months  Border Collie/Catahoula   \nA717008         Dog  Neutered Male       7 months        Border Collie Mix   \nA668317         Cat  Neutered Male       5 months   Domestic Shorthair Mix   \nA684471         Dog  Neutered Male        2 years        Border Collie Mix   \nA718034         Cat  Neutered Male        6 years   Domestic Shorthair Mix   \nA563492         Dog  Neutered Male        5 years  Chihuahua Shorthair Mix   \n\n                      Color  \nAnimalID                     \nA705931         Black/Brown  \nA698194    Blue Merle/White  \nA666546   Brown Tabby/White  \nA697180               Cream  \nA684786   Brown Merle/White  \nA717008         Black/White  \nA668317               Black  \nA684471               Sable  \nA718034         Brown Tabby  \nA563492                 Tan  ",
      "text/html": "<div>\n<style scoped>\n    .dataframe tbody tr th:only-of-type {\n        vertical-align: middle;\n    }\n\n    .dataframe tbody tr th {\n        vertical-align: top;\n    }\n\n    .dataframe thead th {\n        text-align: right;\n    }\n</style>\n<table border=\"1\" class=\"dataframe\">\n  <thead>\n    <tr style=\"text-align: right;\">\n      <th></th>\n      <th>Name</th>\n      <th>DateTime</th>\n      <th>OutcomeType</th>\n      <th>OutcomeSubtype</th>\n      <th>AnimalType</th>\n      <th>SexuponOutcome</th>\n      <th>AgeuponOutcome</th>\n      <th>Breed</th>\n      <th>Color</th>\n    </tr>\n    <tr>\n      <th>AnimalID</th>\n      <th></th>\n      <th></th>\n      <th></th>\n      <th></th>\n      <th></th>\n      <th></th>\n      <th></th>\n      <th></th>\n      <th></th>\n    </tr>\n  </thead>\n  <tbody>\n    <tr>\n      <th>A705931</th>\n      <td>Gideon</td>\n      <td>2015-06-29 17:31:00</td>\n      <td>Adoption</td>\n      <td>NaN</td>\n      <td>Dog</td>\n      <td>Neutered Male</td>\n      <td>8 years</td>\n      <td>Miniature Pinscher Mix</td>\n      <td>Black/Brown</td>\n    </tr>\n    <tr>\n      <th>A698194</th>\n      <td>Jackson</td>\n      <td>2015-03-17 17:13:00</td>\n      <td>Return_to_owner</td>\n      <td>NaN</td>\n      <td>Dog</td>\n      <td>Neutered Male</td>\n      <td>2 years</td>\n      <td>Australian Cattle Dog</td>\n      <td>Blue Merle/White</td>\n    </tr>\n    <tr>\n      <th>A666546</th>\n      <td>Ami</td>\n      <td>2013-11-12 10:39:00</td>\n      <td>Euthanasia</td>\n      <td>Suffering</td>\n      <td>Cat</td>\n      <td>Intact Female</td>\n      <td>2 months</td>\n      <td>Domestic Shorthair Mix</td>\n      <td>Brown Tabby/White</td>\n    </tr>\n    <tr>\n      <th>A697180</th>\n      <td>Mr. Pickles</td>\n      <td>2015-02-20 14:00:00</td>\n      <td>Return_to_owner</td>\n      <td>NaN</td>\n      <td>Dog</td>\n      <td>Neutered Male</td>\n      <td>7 years</td>\n      <td>Shih Tzu Mix</td>\n      <td>Cream</td>\n    </tr>\n    <tr>\n      <th>A684786</th>\n      <td>Reno</td>\n      <td>2014-08-03 15:47:00</td>\n      <td>Transfer</td>\n      <td>Partner</td>\n      <td>Dog</td>\n      <td>Intact Male</td>\n      <td>10 months</td>\n      <td>Border Collie/Catahoula</td>\n      <td>Brown Merle/White</td>\n    </tr>\n    <tr>\n      <th>A717008</th>\n      <td>Taz</td>\n      <td>2015-12-06 15:12:00</td>\n      <td>Transfer</td>\n      <td>Partner</td>\n      <td>Dog</td>\n      <td>Neutered Male</td>\n      <td>7 months</td>\n      <td>Border Collie Mix</td>\n      <td>Black/White</td>\n    </tr>\n    <tr>\n      <th>A668317</th>\n      <td>Scottie</td>\n      <td>2014-02-11 13:48:00</td>\n      <td>Transfer</td>\n      <td>Partner</td>\n      <td>Cat</td>\n      <td>Neutered Male</td>\n      <td>5 months</td>\n      <td>Domestic Shorthair Mix</td>\n      <td>Black</td>\n    </tr>\n    <tr>\n      <th>A684471</th>\n      <td>Captain</td>\n      <td>2014-09-21 15:10:00</td>\n      <td>Adoption</td>\n      <td>NaN</td>\n      <td>Dog</td>\n      <td>Neutered Male</td>\n      <td>2 years</td>\n      <td>Border Collie Mix</td>\n      <td>Sable</td>\n    </tr>\n    <tr>\n      <th>A718034</th>\n      <td>NaN</td>\n      <td>2015-12-25 19:19:00</td>\n      <td>Transfer</td>\n      <td>SCRP</td>\n      <td>Cat</td>\n      <td>Neutered Male</td>\n      <td>6 years</td>\n      <td>Domestic Shorthair Mix</td>\n      <td>Brown Tabby</td>\n    </tr>\n    <tr>\n      <th>A563492</th>\n      <td>Sam</td>\n      <td>2015-03-10 08:26:00</td>\n      <td>Adoption</td>\n      <td>Foster</td>\n      <td>Dog</td>\n      <td>Neutered Male</td>\n      <td>5 years</td>\n      <td>Chihuahua Shorthair Mix</td>\n      <td>Tan</td>\n    </tr>\n  </tbody>\n</table>\n</div>"
     },
     "execution_count": 4,
     "metadata": {},
     "output_type": "execute_result"
    }
   ],
   "source": [
    "data.sample(10)  #what does the data look like?"
   ]
  },
  {
   "cell_type": "markdown",
   "id": "96c5aeac",
   "metadata": {},
   "source": [
    "## standardize AgeuponOutcome to years"
   ]
  },
  {
   "cell_type": "code",
   "execution_count": 5,
   "id": "9fd22971",
   "metadata": {},
   "outputs": [
    {
     "data": {
      "text/plain": "1 year       3969\n2 years      3742\n2 months     3397\n3 years      1823\n1 month      1281\n3 months     1277\n4 years      1071\n5 years       992\n4 months      888\n6 years       670\n3 weeks       659\n5 months      652\n6 months      588\n8 years       536\n7 years       531\n2 weeks       529\n10 months     457\n10 years      446\n8 months      402\n4 weeks       334\n9 years       288\n7 months      288\n12 years      234\n9 months      224\n1 weeks       171\n11 months     166\n1 week        146\n13 years      143\n11 years      126\n3 days        109\n2 days         99\n14 years       97\n15 years       85\n1 day          66\n6 days         50\n4 days         50\n16 years       36\n5 days         24\n0 years        22\nNaN            18\n17 years       17\n5 weeks        11\n18 years       10\n19 years        3\n20 years        2\nName: AgeuponOutcome, dtype: int64"
     },
     "execution_count": 5,
     "metadata": {},
     "output_type": "execute_result"
    }
   ],
   "source": [
    "data.AgeuponOutcome.value_counts(dropna=False)  #what are the old values? for comparison with the result"
   ]
  },
  {
   "cell_type": "code",
   "execution_count": 6,
   "id": "559c562e",
   "metadata": {},
   "outputs": [],
   "source": [
    "def transform_to_years(age_string):\n",
    "    '''takes as input the AgeuponOutcome feature of the raw data and outputs the corresponding number of years'''\n",
    "\n",
    "    if age_string is np.nan:\n",
    "        return np.nan\n",
    "\n",
    "    split_string = age_string.split()\n",
    "\n",
    "    if split_string[1].strip('s') == 'year':\n",
    "        return float(split_string[0])\n",
    "\n",
    "    elif split_string[1].strip('s') == 'month':\n",
    "        return float(split_string[0]) / 12\n",
    "\n",
    "    elif split_string[1].strip('s') == 'week':\n",
    "        return float(split_string[0]) / 52\n",
    "\n",
    "    elif split_string[1].strip('s') == 'day':\n",
    "        return float(split_string[0]) / 365"
   ]
  },
  {
   "cell_type": "code",
   "execution_count": 7,
   "id": "23a1b53b",
   "metadata": {},
   "outputs": [],
   "source": [
    "data['AgeuponOutcome'] = data.AgeuponOutcome.apply(transform_to_years)  #apply the function"
   ]
  },
  {
   "cell_type": "code",
   "execution_count": 8,
   "id": "eff72a90",
   "metadata": {},
   "outputs": [
    {
     "data": {
      "text/plain": "1.000000     3969\n2.000000     3742\n0.166667     3397\n3.000000     1823\n0.083333     1281\n0.250000     1277\n4.000000     1071\n5.000000      992\n0.333333      888\n6.000000      670\n0.057692      659\n0.416667      652\n0.500000      588\n8.000000      536\n7.000000      531\n0.038462      529\n0.833333      457\n10.000000     446\n0.666667      402\n0.076923      334\n0.019231      317\n9.000000      288\n0.583333      288\n12.000000     234\n0.750000      224\n0.916667      166\n13.000000     143\n11.000000     126\n0.008219      109\n0.005479       99\n14.000000      97\n15.000000      85\n0.002740       66\n0.010959       50\n0.016438       50\n16.000000      36\n0.013699       24\n0.000000       22\nNaN            18\n17.000000      17\n0.096154       11\n18.000000      10\n19.000000       3\n20.000000       2\nName: AgeuponOutcome, dtype: int64"
     },
     "execution_count": 8,
     "metadata": {},
     "output_type": "execute_result"
    }
   ],
   "source": [
    "data.AgeuponOutcome.value_counts(dropna=False)  #looks good"
   ]
  },
  {
   "cell_type": "markdown",
   "id": "27ed358d",
   "metadata": {},
   "source": [
    "## transform date column"
   ]
  },
  {
   "cell_type": "code",
   "execution_count": 9,
   "id": "c9f62c39",
   "metadata": {},
   "outputs": [],
   "source": [
    "#for now i just extract the year and month since these are the features we need for data understanding\n",
    "\n",
    "data['year'] = data.DateTime.apply(lambda x: dt.datetime.strptime(x, '%Y-%m-%d %H:%M:%S').year)\n",
    "data['month'] = data.DateTime.apply(lambda x: dt.datetime.strptime(x, '%Y-%m-%d %H:%M:%S').month)\n"
   ]
  },
  {
   "cell_type": "markdown",
   "id": "51ce12b6",
   "metadata": {},
   "source": [
    "## transform SexuponOutcome"
   ]
  },
  {
   "cell_type": "code",
   "execution_count": 10,
   "id": "1f23d607",
   "metadata": {},
   "outputs": [
    {
     "data": {
      "text/plain": "Neutered Male    9779\nSpayed Female    8820\nIntact Male      3525\nIntact Female    3511\nUnknown          1093\nNaN                 1\nName: SexuponOutcome, dtype: int64"
     },
     "execution_count": 10,
     "metadata": {},
     "output_type": "execute_result"
    }
   ],
   "source": [
    "data.SexuponOutcome.value_counts(dropna=False)  #what are the old values?"
   ]
  },
  {
   "cell_type": "code",
   "execution_count": 11,
   "id": "e382e88c",
   "metadata": {},
   "outputs": [],
   "source": [
    "def transform_sex(sex_string, neutralized=False):\n",
    "    '''takes as input the SexuponOutcome feature and returns just the sex or if the animal was neutralized'''\n",
    "\n",
    "    if (sex_string is np.nan) or (sex_string == 'Unknown'):\n",
    "        return np.nan\n",
    "\n",
    "    split_string = sex_string.split()\n",
    "\n",
    "    if neutralized:\n",
    "        if split_string[0] == 'Intact':\n",
    "            return False\n",
    "        else:\n",
    "            return True\n",
    "    else:\n",
    "        return split_string[1]"
   ]
  },
  {
   "cell_type": "code",
   "execution_count": 12,
   "id": "26314087",
   "metadata": {},
   "outputs": [],
   "source": [
    "#apply the function\n",
    "data['neutralized'] = data.SexuponOutcome.apply(lambda x: transform_sex(x, True))\n",
    "data['SexuponOutcome'] = data.SexuponOutcome.apply(transform_sex)"
   ]
  },
  {
   "cell_type": "code",
   "execution_count": 13,
   "id": "51658dfd",
   "metadata": {},
   "outputs": [
    {
     "data": {
      "text/plain": "Male      13304\nFemale    12331\nNaN        1094\nName: SexuponOutcome, dtype: int64"
     },
     "execution_count": 13,
     "metadata": {},
     "output_type": "execute_result"
    }
   ],
   "source": [
    "data.SexuponOutcome.value_counts(dropna=False)  #looks good"
   ]
  },
  {
   "cell_type": "code",
   "execution_count": 14,
   "id": "57efaff4",
   "metadata": {},
   "outputs": [
    {
     "data": {
      "text/plain": "True     18599\nFalse     7036\nNaN       1094\nName: neutralized, dtype: int64"
     },
     "execution_count": 14,
     "metadata": {},
     "output_type": "execute_result"
    }
   ],
   "source": [
    "data.neutralized.value_counts(dropna=False)  #looks good"
   ]
  },
  {
   "cell_type": "markdown",
   "source": [
    "Since these are a bit too many to handle we will try and reduce the number of colors.\n",
    "Let's look at what values we are dealing with and how often they occur."
   ],
   "metadata": {
    "collapsed": false
   }
  },
  {
   "cell_type": "code",
   "execution_count": 15,
   "outputs": [
    {
     "data": {
      "text/plain": "Black/White                    2824\nBlack                          2292\nBrown Tabby                    1635\nBrown Tabby/White               940\nWhite                           931\nBrown/White                     884\nOrange Tabby                    841\nTan/White                       773\nTricolor                        752\nBlue/White                      702\nBlack/Tan                       672\nWhite/Black                     643\nBrown                           639\nTan                             628\nWhite/Brown                     569\nTortie                          530\nCalico                          517\nOrange Tabby/White              455\nBlue                            450\nBrown Brindle/White             450\nBlack/Brown                     436\nBlue Tabby                      433\nWhite/Tan                       389\nRed                             337\nTorbie                          335\nBrown/Black                     333\nRed/White                       331\nBlue Tabby/White                241\nBrown Brindle                   232\nChocolate/White                 224\nBuff                            199\nCream Tabby                     198\nSable                           198\nYellow                          185\nTan/Black                       183\nLynx Point                      168\nCream                           151\nChocolate                       137\nSeal Point                      136\nWhite/Blue                      131\nWhite/Brown Brindle             115\nFawn/White                      109\nWhite/Brown Tabby                98\nGray/White                       96\nGray                             94\nSable/White                      86\nFlame Point                      85\nCream Tabby/White                79\nBlue Merle                       77\nBlack Brindle/White              74\nFawn                             73\nChocolate/Tan                    66\nRed/Black                        62\nTorbie/White                     60\nWhite/Gray                       55\nWhite/Red                        55\nGold                             52\nWhite/Orange Tabby               52\nWhite/Tricolor                   51\nBrown/Tan                        51\nBlack Smoke                      46\nBlack/Brown Brindle              45\nBlue Merle/White                 44\nYellow/White                     43\nBuff/White                       43\nBlack Tabby                      42\nBlack/Tricolor                   39\nWhite/Chocolate                  39\nWhite/Buff                       39\nLilac Point                      39\nCream/White                      38\nBlack/Gray                       38\nWhite/Cream                      36\nGray Tabby                       35\nBrown Merle                      35\nBrown Merle/White                33\nBlue/Tan                         33\nTortie/White                     33\nTortie Point                     32\nWhite/Orange                     30\nBlue Point                       29\nSilver Tabby                     28\nRed Merle                        26\nOrange/White                     26\nRed/Tan                          26\nBlue Merle/Tan                   26\nCalico Point                     25\nTan/Brown                        24\nCalico/White                     24\nRed Merle/White                  23\nApricot                          21\nBlack Brindle                    20\nSilver/Tan                       20\nSeal Point/White                 19\nFawn/Black                       19\nGold/White                       19\nBlue Tick                        18\nTricolor/White                   18\nBlack Tabby/White                18\nRed Tick                         17\nSilver                           17\nBlack/Red                        17\nYellow Brindle/White             17\nTan/Gray                         16\nGray/Black                       16\nChocolate Point                  16\nCream/Black                      16\nWhite/Blue Tabby                 16\nSable/Tan                        16\nBlack Smoke/White                15\nGray Tabby/White                 15\nOrange                           15\nRed Tick/White                   15\nLynx Point/White                 13\nSilver Tabby/White               12\nSable/Black                      12\nYellow Brindle                   12\nWhite/White                      12\nBrown/Tricolor                   12\nWhite/Liver                      12\nBlue Tick/Black                  11\nGray/Tan                         11\nTricolor/Black                   11\nBlue Cream                       11\nTan/Silver                       11\nBuff/Tan                         11\nLiver/White                      11\nBlack/Cream                      10\nWhite/Black Brindle               9\nTortie/Blue Cream                 9\nBrown Tabby/Black                 9\nTan/Cream                         9\nTan/Buff                          9\nBrown/Gray                        8\nRed/Brown                         8\nBlack/Blue Merle                  8\nBuff/Black                        8\nCream/Tan                         8\nBlue Tiger/White                  7\nTricolor/Brown                    7\nSable/Brown                       7\nBrown Brindle/Black               7\nBlue Merle/Brown                  7\nWhite/Red Tick                    7\nChocolate/Brown                   6\nWhite/Blue Merle                  6\nBrown/Red                         6\nBlack/Blue Tick                   6\nTan/Tan                           6\nWhite/Cream Tabby                 5\nChocolate Point/White             5\nSilver/Black                      5\nBlack/Black Brindle               5\nBlack/Buff                        5\nRed/Cream                         4\nBlue Merle/Black                  4\nWhite/Red Merle                   4\nBlue/Black                        4\nBlack/Black                       4\nWhite/Brown Merle                 4\nSilver/White                      4\nBlue Tick/Tan                     4\nGray/Silver                       4\nWhite/Yellow Brindle              4\nTan/Red                           4\nTan/Blue                          4\nBlue Cream/White                  4\nWhite/Black Tabby                 4\nSilver/Brown                      4\nBlue Smoke                        4\nBrown/Cream                       4\nBlue Tick/White                   3\nGray/Brown                        3\nBlack/Silver                      3\nCalico/Brown Tabby                3\nLiver Tick                        3\nBlue Tick/Brown                   3\nSable/Cream                       3\nBlack/Black Smoke                 3\nSeal Point/Brown                  3\nTortie/Orange                     3\nWhite/Pink                        3\nFawn/Blue                         3\nChocolate/Red                     3\nWhite/Chocolate Point             3\nWhite/Silver                      3\nTricolor/Tan                      3\nBlack/Orange                      3\nBrown Brindle/Red Tick            3\nBlack Brindle/Brown               3\nBlack/Blue                        3\nWhite/Gold                        3\nBrown Tiger                       3\nBlue/Brown Brindle                3\nBlue/Cream                        3\nApricot/White                     3\nLiver/Tan                         3\nBlue Tick/Red Tick                3\nTortie/Black                      2\nBrown Brindle/Tan                 2\nBrown Merle/Black                 2\nWhite/Gray Tabby                  2\nRed/Tricolor                      2\nCream/Brown                       2\nBrown Tabby/Tortie                2\nTricolor/Chocolate                2\nBuff/Yellow                       2\nRed/Red Merle                     2\nWhite/Blue Tick                   2\nGold/Gold                         2\nBrown Tabby/Gray                  2\nRed/Buff                          2\nSilver Lynx Point                 2\nBlack/Chocolate                   2\nBlack/Yellow Brindle              2\nChocolate/Black Smoke             2\nBrown/Buff                        2\nTricolor/Silver                   2\nRed Tick/Red                      2\nSilver/Chocolate                  2\nWhite/Yellow                      2\nBlack Tiger/White                 2\nChocolate/Black                   2\nFawn/Tan                          2\nBlack/Brown Merle                 2\nWhite/Apricot                     2\nChocolate/Tricolor                2\nTricolor/Blue                     2\nRed Tick/Tan                      2\nRed/Red Tick                      2\nBlue Point/White                  2\nApricot/Brown                     2\nWhite/Blue Cream                  2\nCalico/Tricolor                   2\nBrown/Red Tick                    2\nCalico/Black                      2\nBrown Tabby/Orange                2\nBrown/Brown                       2\nBrown/Chocolate                   2\nCalico Point/White                2\nBuff/Gray                         2\nWhite/Lynx Point                  2\nGray/Cream                        2\nBlue Merle/Tricolor               2\nTan/Gold                          2\nRed Merle/Black                   2\nCream/Gray                        2\nChocolate/Red Tick                1\nYellow/Yellow                     1\nBlack/Yellow                      1\nBlue Merle/Red                    1\nChocolate/Brown Merle             1\nAgouti/Brown Tabby                1\nBrown Tabby/Gray Tabby            1\nGray/Red                          1\nGold/Black                        1\nFawn/Brown                        1\nChocolate/Gray                    1\nWhite/Calico                      1\nBrown/Black Brindle               1\nBlue Merle/Blue Merle             1\nTricolor/Calico                   1\nBrown Brindle/Brown Brindle       1\nWhite/Flame Point                 1\nCalico/Orange Tabby               1\nGold/Buff                         1\nBlue/Brown                        1\nSable/Red                         1\nLiver Tick/White                  1\nBrown Brindle/Blue Tick           1\nCalico/Blue Cream                 1\nBlue Cream/Tortie                 1\nOrange Tabby/Orange               1\nBlue Tick/Red                     1\nSilver/Red                        1\nOrange/Orange Tabby               1\nTortie/Black Smoke                1\nSilver Tabby/Black                1\nYellow Brindle/Blue               1\nBuff/Brown                        1\nBrown Brindle/Blue Cream          1\nBlue Merle/Red Merle              1\nYellow/Black                      1\nRed/Silver                        1\nTan/Yellow Brindle                1\nTan/Apricot                       1\nBlack Brindle/Brown Brindle       1\nBlue Tabby/Cream                  1\nTan/Tricolor                      1\nChocolate/Cream                   1\nBlue Cream/Blue Tabby             1\nCalico/Blue Tabby                 1\nGray Tabby/Black                  1\nOrange Tiger                      1\nLynx Point/Gray Tabby             1\nCream/Seal Point                  1\nTricolor/Blue Merle               1\nCream/Orange                      1\nBlue Tick/Brown Brindle           1\nBrown Brindle/Brown Merle         1\nWhite/Brown Tiger                 1\nBrown/Blue                        1\nBlue Merle/Cream                  1\nBlue/Tortie                       1\nTricolor/Brown Merle              1\nRed/Blue                          1\nBlack Smoke/Brown Tabby           1\nCream/Red                         1\nOrange/Tan                        1\nFawn/Brown Brindle                1\nTan/Brown Brindle                 1\nBuff/Red                          1\nBlack Tabby/Orange                1\nBlack Brindle/Black               1\nChocolate/Brown Brindle           1\nFawn/Tricolor                     1\nRed Tick/Brown                    1\nOrange Tabby/Apricot              1\nAgouti                            1\nBlue Tabby/Blue Cream             1\nRed/Gold                          1\nBlack/Silver Tabby                1\nChocolate/Gold                    1\nCream/Red Tick                    1\nTortie Point/Lynx Point           1\nBrown/Silver                      1\nBlue Merle/Gray                   1\nBlue Cream/Blue Tiger             1\nBlue Tabby/Orange                 1\nBrown Tiger/White                 1\nRed Tick/Black                    1\nTortie/Calico                     1\nBlue Smoke/Brown                  1\nBlue Tabby/Tan                    1\nBrown Brindle/Blue                1\nTortie/Brown                      1\nTorbie/Calico                     1\nCalico/Brown                      1\nBrown Merle/Blue Merle            1\nBlue/Orange                       1\nBlue Cream/Buff                   1\nRed Merle/Tan                     1\nBrown/Blue Smoke                  1\nRed Tick/Blue Tick                1\nBrown Merle/Tan                   1\nTortie Point/White                1\nGold/Tan                          1\nTan/Brown Merle                   1\nBlue Tiger                        1\nGold/Yellow                       1\nRuddy/Cream                       1\nWhite/Black Smoke                 1\nBlue/Yellow Brindle               1\nTorbie/Blue Cream                 1\nBrown Tabby/Brown                 1\nOrange Tabby/Black                1\nBrown/Brown Merle                 1\nPink                              1\nLiver/Buff                        1\nTorbie/Brown                      1\nLynx Point/Brown Tabby            1\nRed Tick/Brown Merle              1\nYellow Brindle/Tan                1\nBrown/Black Tabby                 1\nBlack/Black Tabby                 1\nSable/Buff                        1\nName: Color, dtype: int64"
     },
     "execution_count": 15,
     "metadata": {},
     "output_type": "execute_result"
    }
   ],
   "source": [
    "data.Color.value_counts()"
   ],
   "metadata": {
    "collapsed": false,
    "pycharm": {
     "name": "#%%\n"
    }
   }
  },
  {
   "cell_type": "code",
   "execution_count": 16,
   "outputs": [
    {
     "data": {
      "text/plain": "Black                6422\nWhite                3344\nBrown Tabby          2592\nBrown                1951\nTan                  1674\nOrange Tabby         1299\nBlue                 1199\nTricolor              800\nRed                   779\nBrown Brindle         699\nBlue Tabby            678\nTortie                580\nCalico                552\nChocolate             448\nTorbie                398\nSable                 324\nCream Tabby           277\nBuff                  267\nYellow                230\nGray                  227\nCream                 221\nFawn                  209\nLynx Point            183\nBlue Merle            165\nSeal Point            158\nBlack Brindle          99\nFlame Point            85\nGold                   77\nBrown Merle            72\nBlack Smoke            62\nBlack Tabby            61\nSilver                 53\nRed Merle              52\nGray Tabby             51\nBlue Tick              44\nOrange                 43\nSilver Tabby           41\nRed Tick               40\nLilac Point            39\nTortie Point           34\nBlue Point             31\nYellow Brindle         31\nCalico Point           27\nApricot                26\nChocolate Point        21\nBlue Cream             19\nLiver                  15\nBlue Tiger              8\nBlue Smoke              5\nBrown Tiger             4\nLiver Tick              4\nAgouti                  2\nSilver Lynx Point       2\nBlack Tiger             2\nPink                    1\nRuddy                   1\nOrange Tiger            1\nName: Color, dtype: int64"
     },
     "execution_count": 16,
     "metadata": {},
     "output_type": "execute_result"
    }
   ],
   "source": [
    "data[\"ColorMix\"] = data.Color.str.contains('/')\n",
    "data.Color=data.Color.str.split('/', expand=True)[0]\n",
    "data.Color.value_counts()"
   ],
   "metadata": {
    "collapsed": false,
    "pycharm": {
     "name": "#%%\n"
    }
   }
  },
  {
   "cell_type": "code",
   "execution_count": 17,
   "outputs": [
    {
     "data": {
      "text/plain": "True     13924\nFalse    12805\nName: ColorMix, dtype: int64"
     },
     "execution_count": 17,
     "metadata": {},
     "output_type": "execute_result"
    }
   ],
   "source": [
    "data.ColorMix.value_counts()"
   ],
   "metadata": {
    "collapsed": false,
    "pycharm": {
     "name": "#%%\n"
    }
   }
  },
  {
   "cell_type": "code",
   "execution_count": 18,
   "outputs": [
    {
     "name": "stdout",
     "output_type": "stream",
     "text": [
      "We were able to reduce the number of unique colors to: 57\n"
     ]
    }
   ],
   "source": [
    "print(f\"We were able to reduce the number of unique colors to: {data.Color.nunique()}\")"
   ],
   "metadata": {
    "collapsed": false,
    "pycharm": {
     "name": "#%%\n"
    }
   }
  },
  {
   "cell_type": "markdown",
   "source": [
    "We were able to reduce the number of colors quite a bit while still retaining the information that an animal has a pure \n",
    "or mixed color (which is actually almost half of the animals). This will probably suffice for this use case."
   ],
   "metadata": {
    "collapsed": false,
    "pycharm": {
     "name": "#%% md\n"
    }
   }
  },
  {
   "cell_type": "markdown",
   "id": "fcda7f39",
   "metadata": {},
   "source": [
    "## save data with these features"
   ]
  },
  {
   "cell_type": "code",
   "execution_count": 19,
   "id": "c5f1e90b",
   "metadata": {},
   "outputs": [
    {
     "data": {
      "text/plain": "                Name             DateTime      OutcomeType OutcomeSubtype  \\\nAnimalID                                                                    \nA685694   Little One  2015-03-06 08:00:00         Adoption         Foster   \nA427782        Midas  2014-04-10 16:29:00  Return_to_owner            NaN   \nA716218      Ladybug  2015-11-17 18:28:00         Adoption            NaN   \nA718853        Sandy  2016-01-10 14:00:00  Return_to_owner            NaN   \nA690804          NaN  2014-10-27 09:00:00         Transfer           SCRP   \nA703371         Nina  2015-05-31 17:29:00         Adoption            NaN   \nA707763   Tinkerbell  2015-07-19 13:48:00         Adoption         Foster   \nA690533       Armani  2015-10-13 13:12:00         Transfer        Partner   \nA712912        Goofy  2015-10-04 18:03:00         Adoption            NaN   \nA699574      Jupiter  2015-03-31 16:50:00  Return_to_owner            NaN   \n\n         AnimalType SexuponOutcome  AgeuponOutcome  \\\nAnimalID                                             \nA685694         Cat         Female        0.583333   \nA427782         Dog           Male        9.000000   \nA716218         Dog         Female        4.000000   \nA718853         Dog         Female        0.250000   \nA690804         Cat           Male        1.000000   \nA703371         Dog         Female        2.000000   \nA707763         Cat         Female        0.166667   \nA690533         Cat           Male        1.000000   \nA712912         Dog           Male        0.916667   \nA699574         Dog           Male        2.000000   \n\n                                        Breed         Color  year  month  \\\nAnimalID                                                                   \nA685694                Domestic Shorthair Mix  Orange Tabby  2015      3   \nA427782                              Pit Bull           Tan  2014      4   \nA716218               Australian Shepherd Mix     Chocolate  2015     11   \nA718853                 Dachshund/Rat Terrier         Brown  2016      1   \nA690804                Domestic Shorthair Mix  Orange Tabby  2014     10   \nA703371                     Cairn Terrier Mix           Tan  2015      5   \nA707763                Domestic Shorthair Mix   Cream Tabby  2015      7   \nA690533                Domestic Shorthair Mix   Cream Tabby  2015     10   \nA712912             Australian Cattle Dog Mix           Tan  2015     10   \nA699574   Basset Hound/English Cocker Spaniel         Black  2015      3   \n\n         neutralized  ColorMix  \nAnimalID                        \nA685694         True     False  \nA427782         True      True  \nA716218         True      True  \nA718853         True      True  \nA690804        False     False  \nA703371         True      True  \nA707763         True     False  \nA690533         True      True  \nA712912         True      True  \nA699574         True     False  ",
      "text/html": "<div>\n<style scoped>\n    .dataframe tbody tr th:only-of-type {\n        vertical-align: middle;\n    }\n\n    .dataframe tbody tr th {\n        vertical-align: top;\n    }\n\n    .dataframe thead th {\n        text-align: right;\n    }\n</style>\n<table border=\"1\" class=\"dataframe\">\n  <thead>\n    <tr style=\"text-align: right;\">\n      <th></th>\n      <th>Name</th>\n      <th>DateTime</th>\n      <th>OutcomeType</th>\n      <th>OutcomeSubtype</th>\n      <th>AnimalType</th>\n      <th>SexuponOutcome</th>\n      <th>AgeuponOutcome</th>\n      <th>Breed</th>\n      <th>Color</th>\n      <th>year</th>\n      <th>month</th>\n      <th>neutralized</th>\n      <th>ColorMix</th>\n    </tr>\n    <tr>\n      <th>AnimalID</th>\n      <th></th>\n      <th></th>\n      <th></th>\n      <th></th>\n      <th></th>\n      <th></th>\n      <th></th>\n      <th></th>\n      <th></th>\n      <th></th>\n      <th></th>\n      <th></th>\n      <th></th>\n    </tr>\n  </thead>\n  <tbody>\n    <tr>\n      <th>A685694</th>\n      <td>Little One</td>\n      <td>2015-03-06 08:00:00</td>\n      <td>Adoption</td>\n      <td>Foster</td>\n      <td>Cat</td>\n      <td>Female</td>\n      <td>0.583333</td>\n      <td>Domestic Shorthair Mix</td>\n      <td>Orange Tabby</td>\n      <td>2015</td>\n      <td>3</td>\n      <td>True</td>\n      <td>False</td>\n    </tr>\n    <tr>\n      <th>A427782</th>\n      <td>Midas</td>\n      <td>2014-04-10 16:29:00</td>\n      <td>Return_to_owner</td>\n      <td>NaN</td>\n      <td>Dog</td>\n      <td>Male</td>\n      <td>9.000000</td>\n      <td>Pit Bull</td>\n      <td>Tan</td>\n      <td>2014</td>\n      <td>4</td>\n      <td>True</td>\n      <td>True</td>\n    </tr>\n    <tr>\n      <th>A716218</th>\n      <td>Ladybug</td>\n      <td>2015-11-17 18:28:00</td>\n      <td>Adoption</td>\n      <td>NaN</td>\n      <td>Dog</td>\n      <td>Female</td>\n      <td>4.000000</td>\n      <td>Australian Shepherd Mix</td>\n      <td>Chocolate</td>\n      <td>2015</td>\n      <td>11</td>\n      <td>True</td>\n      <td>True</td>\n    </tr>\n    <tr>\n      <th>A718853</th>\n      <td>Sandy</td>\n      <td>2016-01-10 14:00:00</td>\n      <td>Return_to_owner</td>\n      <td>NaN</td>\n      <td>Dog</td>\n      <td>Female</td>\n      <td>0.250000</td>\n      <td>Dachshund/Rat Terrier</td>\n      <td>Brown</td>\n      <td>2016</td>\n      <td>1</td>\n      <td>True</td>\n      <td>True</td>\n    </tr>\n    <tr>\n      <th>A690804</th>\n      <td>NaN</td>\n      <td>2014-10-27 09:00:00</td>\n      <td>Transfer</td>\n      <td>SCRP</td>\n      <td>Cat</td>\n      <td>Male</td>\n      <td>1.000000</td>\n      <td>Domestic Shorthair Mix</td>\n      <td>Orange Tabby</td>\n      <td>2014</td>\n      <td>10</td>\n      <td>False</td>\n      <td>False</td>\n    </tr>\n    <tr>\n      <th>A703371</th>\n      <td>Nina</td>\n      <td>2015-05-31 17:29:00</td>\n      <td>Adoption</td>\n      <td>NaN</td>\n      <td>Dog</td>\n      <td>Female</td>\n      <td>2.000000</td>\n      <td>Cairn Terrier Mix</td>\n      <td>Tan</td>\n      <td>2015</td>\n      <td>5</td>\n      <td>True</td>\n      <td>True</td>\n    </tr>\n    <tr>\n      <th>A707763</th>\n      <td>Tinkerbell</td>\n      <td>2015-07-19 13:48:00</td>\n      <td>Adoption</td>\n      <td>Foster</td>\n      <td>Cat</td>\n      <td>Female</td>\n      <td>0.166667</td>\n      <td>Domestic Shorthair Mix</td>\n      <td>Cream Tabby</td>\n      <td>2015</td>\n      <td>7</td>\n      <td>True</td>\n      <td>False</td>\n    </tr>\n    <tr>\n      <th>A690533</th>\n      <td>Armani</td>\n      <td>2015-10-13 13:12:00</td>\n      <td>Transfer</td>\n      <td>Partner</td>\n      <td>Cat</td>\n      <td>Male</td>\n      <td>1.000000</td>\n      <td>Domestic Shorthair Mix</td>\n      <td>Cream Tabby</td>\n      <td>2015</td>\n      <td>10</td>\n      <td>True</td>\n      <td>True</td>\n    </tr>\n    <tr>\n      <th>A712912</th>\n      <td>Goofy</td>\n      <td>2015-10-04 18:03:00</td>\n      <td>Adoption</td>\n      <td>NaN</td>\n      <td>Dog</td>\n      <td>Male</td>\n      <td>0.916667</td>\n      <td>Australian Cattle Dog Mix</td>\n      <td>Tan</td>\n      <td>2015</td>\n      <td>10</td>\n      <td>True</td>\n      <td>True</td>\n    </tr>\n    <tr>\n      <th>A699574</th>\n      <td>Jupiter</td>\n      <td>2015-03-31 16:50:00</td>\n      <td>Return_to_owner</td>\n      <td>NaN</td>\n      <td>Dog</td>\n      <td>Male</td>\n      <td>2.000000</td>\n      <td>Basset Hound/English Cocker Spaniel</td>\n      <td>Black</td>\n      <td>2015</td>\n      <td>3</td>\n      <td>True</td>\n      <td>False</td>\n    </tr>\n  </tbody>\n</table>\n</div>"
     },
     "execution_count": 19,
     "metadata": {},
     "output_type": "execute_result"
    }
   ],
   "source": [
    "data.sample(10)  #check another time"
   ]
  },
  {
   "cell_type": "code",
   "execution_count": 20,
   "id": "4f544a8f",
   "metadata": {},
   "outputs": [],
   "source": [
    "#save data\n",
    "#data.to_csv('data/transformed_data.csv',index_label='AnimalID')"
   ]
  },
  {
   "cell_type": "markdown",
   "id": "f8369d6c",
   "metadata": {},
   "source": [
    "## transform to numeric features\n",
    "\n",
    "transform non-numeric features for modeling"
   ]
  },
  {
   "cell_type": "code",
   "execution_count": 21,
   "id": "90833754",
   "metadata": {},
   "outputs": [],
   "source": [
    "data_num = data.drop(labels=['Name','DateTime','OutcomeSubtype','Breed','Color'],axis=1)"
   ]
  },
  {
   "cell_type": "code",
   "execution_count": 22,
   "id": "8ba01bec",
   "metadata": {},
   "outputs": [
    {
     "data": {
      "text/plain": "              OutcomeType AnimalType SexuponOutcome  AgeuponOutcome  year  \\\nAnimalID                                                                    \nA671945   Return_to_owner        Dog           Male        1.000000  2014   \nA656520        Euthanasia        Cat         Female        1.000000  2013   \nA686464          Adoption        Dog           Male        2.000000  2015   \nA683430          Transfer        Cat           Male        0.057692  2014   \nA667013          Transfer        Dog           Male        2.000000  2013   \n\n          month neutralized  ColorMix  \nAnimalID                               \nA671945       2        True      True  \nA656520      10        True     False  \nA686464       1        True      True  \nA683430       7       False     False  \nA667013      11        True     False  ",
      "text/html": "<div>\n<style scoped>\n    .dataframe tbody tr th:only-of-type {\n        vertical-align: middle;\n    }\n\n    .dataframe tbody tr th {\n        vertical-align: top;\n    }\n\n    .dataframe thead th {\n        text-align: right;\n    }\n</style>\n<table border=\"1\" class=\"dataframe\">\n  <thead>\n    <tr style=\"text-align: right;\">\n      <th></th>\n      <th>OutcomeType</th>\n      <th>AnimalType</th>\n      <th>SexuponOutcome</th>\n      <th>AgeuponOutcome</th>\n      <th>year</th>\n      <th>month</th>\n      <th>neutralized</th>\n      <th>ColorMix</th>\n    </tr>\n    <tr>\n      <th>AnimalID</th>\n      <th></th>\n      <th></th>\n      <th></th>\n      <th></th>\n      <th></th>\n      <th></th>\n      <th></th>\n      <th></th>\n    </tr>\n  </thead>\n  <tbody>\n    <tr>\n      <th>A671945</th>\n      <td>Return_to_owner</td>\n      <td>Dog</td>\n      <td>Male</td>\n      <td>1.000000</td>\n      <td>2014</td>\n      <td>2</td>\n      <td>True</td>\n      <td>True</td>\n    </tr>\n    <tr>\n      <th>A656520</th>\n      <td>Euthanasia</td>\n      <td>Cat</td>\n      <td>Female</td>\n      <td>1.000000</td>\n      <td>2013</td>\n      <td>10</td>\n      <td>True</td>\n      <td>False</td>\n    </tr>\n    <tr>\n      <th>A686464</th>\n      <td>Adoption</td>\n      <td>Dog</td>\n      <td>Male</td>\n      <td>2.000000</td>\n      <td>2015</td>\n      <td>1</td>\n      <td>True</td>\n      <td>True</td>\n    </tr>\n    <tr>\n      <th>A683430</th>\n      <td>Transfer</td>\n      <td>Cat</td>\n      <td>Male</td>\n      <td>0.057692</td>\n      <td>2014</td>\n      <td>7</td>\n      <td>False</td>\n      <td>False</td>\n    </tr>\n    <tr>\n      <th>A667013</th>\n      <td>Transfer</td>\n      <td>Dog</td>\n      <td>Male</td>\n      <td>2.000000</td>\n      <td>2013</td>\n      <td>11</td>\n      <td>True</td>\n      <td>False</td>\n    </tr>\n  </tbody>\n</table>\n</div>"
     },
     "execution_count": 22,
     "metadata": {},
     "output_type": "execute_result"
    }
   ],
   "source": [
    "data_num.head()"
   ]
  },
  {
   "cell_type": "code",
   "execution_count": 23,
   "id": "10643794",
   "metadata": {},
   "outputs": [],
   "source": [
    "data_num['AnimalType'] = data_num.AnimalType.apply(lambda x: 1 if x == 'Dog' else 0)\n",
    "\n",
    "data_num['SexuponOutcome'] = data_num.SexuponOutcome.apply(lambda x: 1 if x == 'Female' else 0)\n",
    "\n",
    "data_num['neutralized'] = data_num.neutralized.apply(float)"
   ]
  },
  {
   "cell_type": "code",
   "execution_count": 24,
   "id": "a003718f",
   "metadata": {},
   "outputs": [
    {
     "data": {
      "text/plain": "              OutcomeType  AnimalType  SexuponOutcome  AgeuponOutcome  year  \\\nAnimalID                                                                      \nA671945   Return_to_owner           1               0        1.000000  2014   \nA656520        Euthanasia           0               1        1.000000  2013   \nA686464          Adoption           1               0        2.000000  2015   \nA683430          Transfer           0               0        0.057692  2014   \nA667013          Transfer           1               0        2.000000  2013   \n\n          month  neutralized  ColorMix  \nAnimalID                                \nA671945       2          1.0      True  \nA656520      10          1.0     False  \nA686464       1          1.0      True  \nA683430       7          0.0     False  \nA667013      11          1.0     False  ",
      "text/html": "<div>\n<style scoped>\n    .dataframe tbody tr th:only-of-type {\n        vertical-align: middle;\n    }\n\n    .dataframe tbody tr th {\n        vertical-align: top;\n    }\n\n    .dataframe thead th {\n        text-align: right;\n    }\n</style>\n<table border=\"1\" class=\"dataframe\">\n  <thead>\n    <tr style=\"text-align: right;\">\n      <th></th>\n      <th>OutcomeType</th>\n      <th>AnimalType</th>\n      <th>SexuponOutcome</th>\n      <th>AgeuponOutcome</th>\n      <th>year</th>\n      <th>month</th>\n      <th>neutralized</th>\n      <th>ColorMix</th>\n    </tr>\n    <tr>\n      <th>AnimalID</th>\n      <th></th>\n      <th></th>\n      <th></th>\n      <th></th>\n      <th></th>\n      <th></th>\n      <th></th>\n      <th></th>\n    </tr>\n  </thead>\n  <tbody>\n    <tr>\n      <th>A671945</th>\n      <td>Return_to_owner</td>\n      <td>1</td>\n      <td>0</td>\n      <td>1.000000</td>\n      <td>2014</td>\n      <td>2</td>\n      <td>1.0</td>\n      <td>True</td>\n    </tr>\n    <tr>\n      <th>A656520</th>\n      <td>Euthanasia</td>\n      <td>0</td>\n      <td>1</td>\n      <td>1.000000</td>\n      <td>2013</td>\n      <td>10</td>\n      <td>1.0</td>\n      <td>False</td>\n    </tr>\n    <tr>\n      <th>A686464</th>\n      <td>Adoption</td>\n      <td>1</td>\n      <td>0</td>\n      <td>2.000000</td>\n      <td>2015</td>\n      <td>1</td>\n      <td>1.0</td>\n      <td>True</td>\n    </tr>\n    <tr>\n      <th>A683430</th>\n      <td>Transfer</td>\n      <td>0</td>\n      <td>0</td>\n      <td>0.057692</td>\n      <td>2014</td>\n      <td>7</td>\n      <td>0.0</td>\n      <td>False</td>\n    </tr>\n    <tr>\n      <th>A667013</th>\n      <td>Transfer</td>\n      <td>1</td>\n      <td>0</td>\n      <td>2.000000</td>\n      <td>2013</td>\n      <td>11</td>\n      <td>1.0</td>\n      <td>False</td>\n    </tr>\n  </tbody>\n</table>\n</div>"
     },
     "execution_count": 24,
     "metadata": {},
     "output_type": "execute_result"
    }
   ],
   "source": [
    "data_num.head()"
   ]
  },
  {
   "cell_type": "code",
   "execution_count": 25,
   "id": "0fb8c8fa",
   "metadata": {},
   "outputs": [],
   "source": [
    "#save data\n",
    "#data_num.to_csv('data/transformed_data_num.csv',index_label='AnimalID')"
   ]
  },
  {
   "cell_type": "code",
   "execution_count": 25,
   "id": "6e4fd590",
   "metadata": {},
   "outputs": [],
   "source": []
  }
 ],
 "metadata": {
  "kernelspec": {
   "display_name": "Python 3 (ipykernel)",
   "language": "python",
   "name": "python3"
  },
  "language_info": {
   "codemirror_mode": {
    "name": "ipython",
    "version": 3
   },
   "file_extension": ".py",
   "mimetype": "text/x-python",
   "name": "python",
   "nbconvert_exporter": "python",
   "pygments_lexer": "ipython3",
   "version": "3.7.11"
  }
 },
 "nbformat": 4,
 "nbformat_minor": 5
}